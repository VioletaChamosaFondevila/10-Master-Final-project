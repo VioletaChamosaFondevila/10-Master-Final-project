{
 "cells": [
  {
   "cell_type": "code",
   "execution_count": 1,
   "id": "3fe51b30",
   "metadata": {},
   "outputs": [],
   "source": [
    "import pandas as pd\n",
    "import numpy as np\n",
    "\n",
    "import matplotlib.pyplot as plt\n",
    "from matplotlib.pyplot import figure\n",
    "import seaborn as sns\n",
    "sns.set()\n",
    "\n",
    "from sklearn.metrics import mean_squared_error, mean_absolute_error\n",
    "import math"
   ]
  },
  {
   "cell_type": "code",
   "execution_count": 2,
   "id": "17c73b76",
   "metadata": {},
   "outputs": [],
   "source": [
    "df_1 = pd.read_csv('BTC_sentiment_price.csv', index_col='Date')"
   ]
  },
  {
   "cell_type": "code",
   "execution_count": 3,
   "id": "968cfb31",
   "metadata": {},
   "outputs": [],
   "source": [
    "df_1.index = pd.to_datetime(df_1.index)"
   ]
  },
  {
   "cell_type": "code",
   "execution_count": 4,
   "id": "4758d6a9",
   "metadata": {},
   "outputs": [
    {
     "data": {
      "text/html": [
       "<div>\n",
       "<style scoped>\n",
       "    .dataframe tbody tr th:only-of-type {\n",
       "        vertical-align: middle;\n",
       "    }\n",
       "\n",
       "    .dataframe tbody tr th {\n",
       "        vertical-align: top;\n",
       "    }\n",
       "\n",
       "    .dataframe thead th {\n",
       "        text-align: right;\n",
       "    }\n",
       "</style>\n",
       "<table border=\"1\" class=\"dataframe\">\n",
       "  <thead>\n",
       "    <tr style=\"text-align: right;\">\n",
       "      <th></th>\n",
       "      <th>Open</th>\n",
       "      <th>High</th>\n",
       "      <th>Low</th>\n",
       "      <th>Close</th>\n",
       "      <th>Volume</th>\n",
       "      <th>SMA_14</th>\n",
       "      <th>EMA_26</th>\n",
       "      <th>EMA_12</th>\n",
       "      <th>MACD</th>\n",
       "      <th>MACDs</th>\n",
       "      <th>ATR</th>\n",
       "      <th>OBV</th>\n",
       "      <th>Subjectivity</th>\n",
       "      <th>Polarity</th>\n",
       "      <th>sentiment</th>\n",
       "      <th>negative</th>\n",
       "      <th>positive</th>\n",
       "      <th>neutral</th>\n",
       "    </tr>\n",
       "    <tr>\n",
       "      <th>Date</th>\n",
       "      <th></th>\n",
       "      <th></th>\n",
       "      <th></th>\n",
       "      <th></th>\n",
       "      <th></th>\n",
       "      <th></th>\n",
       "      <th></th>\n",
       "      <th></th>\n",
       "      <th></th>\n",
       "      <th></th>\n",
       "      <th></th>\n",
       "      <th></th>\n",
       "      <th></th>\n",
       "      <th></th>\n",
       "      <th></th>\n",
       "      <th></th>\n",
       "      <th></th>\n",
       "      <th></th>\n",
       "    </tr>\n",
       "  </thead>\n",
       "  <tbody>\n",
       "    <tr>\n",
       "      <th>2018-02-25</th>\n",
       "      <td>9796.419922</td>\n",
       "      <td>9923.219727</td>\n",
       "      <td>9407.059570</td>\n",
       "      <td>9664.730469</td>\n",
       "      <td>5706939904</td>\n",
       "      <td>10156.257952</td>\n",
       "      <td>10134.177741</td>\n",
       "      <td>10078.064620</td>\n",
       "      <td>-56.113122</td>\n",
       "      <td>-174.033087</td>\n",
       "      <td>953.619535</td>\n",
       "      <td>1.290495e+11</td>\n",
       "      <td>0.441667</td>\n",
       "      <td>0.220833</td>\n",
       "      <td>0.7788</td>\n",
       "      <td>0.021</td>\n",
       "      <td>0.087</td>\n",
       "      <td>0.892</td>\n",
       "    </tr>\n",
       "    <tr>\n",
       "      <th>2018-02-26</th>\n",
       "      <td>9669.429688</td>\n",
       "      <td>10475.000000</td>\n",
       "      <td>9501.730469</td>\n",
       "      <td>10366.700195</td>\n",
       "      <td>7287690240</td>\n",
       "      <td>10259.124372</td>\n",
       "      <td>10151.401627</td>\n",
       "      <td>10122.470093</td>\n",
       "      <td>-28.931534</td>\n",
       "      <td>-145.012777</td>\n",
       "      <td>955.023106</td>\n",
       "      <td>1.363372e+11</td>\n",
       "      <td>0.446667</td>\n",
       "      <td>0.010000</td>\n",
       "      <td>-0.6597</td>\n",
       "      <td>0.080</td>\n",
       "      <td>0.037</td>\n",
       "      <td>0.883</td>\n",
       "    </tr>\n",
       "    <tr>\n",
       "      <th>2018-02-27</th>\n",
       "      <td>10393.900391</td>\n",
       "      <td>10878.500000</td>\n",
       "      <td>10246.099609</td>\n",
       "      <td>10725.599609</td>\n",
       "      <td>6966179840</td>\n",
       "      <td>10411.073661</td>\n",
       "      <td>10193.934811</td>\n",
       "      <td>10215.259249</td>\n",
       "      <td>21.324439</td>\n",
       "      <td>-111.745334</td>\n",
       "      <td>931.978626</td>\n",
       "      <td>1.433033e+11</td>\n",
       "      <td>0.518506</td>\n",
       "      <td>0.001623</td>\n",
       "      <td>-0.6705</td>\n",
       "      <td>0.073</td>\n",
       "      <td>0.034</td>\n",
       "      <td>0.892</td>\n",
       "    </tr>\n",
       "    <tr>\n",
       "      <th>2018-02-28</th>\n",
       "      <td>10687.200195</td>\n",
       "      <td>11089.799805</td>\n",
       "      <td>10393.099609</td>\n",
       "      <td>10397.900391</td>\n",
       "      <td>6936189952</td>\n",
       "      <td>10475.592983</td>\n",
       "      <td>10209.043372</td>\n",
       "      <td>10243.357886</td>\n",
       "      <td>34.314514</td>\n",
       "      <td>-82.533364</td>\n",
       "      <td>915.173024</td>\n",
       "      <td>1.363672e+11</td>\n",
       "      <td>0.459091</td>\n",
       "      <td>0.039394</td>\n",
       "      <td>0.4939</td>\n",
       "      <td>0.038</td>\n",
       "      <td>0.093</td>\n",
       "      <td>0.869</td>\n",
       "    </tr>\n",
       "    <tr>\n",
       "      <th>2018-03-01</th>\n",
       "      <td>10385.000000</td>\n",
       "      <td>11052.299805</td>\n",
       "      <td>10352.700195</td>\n",
       "      <td>10951.000000</td>\n",
       "      <td>7317279744</td>\n",
       "      <td>10531.635812</td>\n",
       "      <td>10264.003122</td>\n",
       "      <td>10352.225904</td>\n",
       "      <td>88.222782</td>\n",
       "      <td>-48.382135</td>\n",
       "      <td>899.774923</td>\n",
       "      <td>1.436844e+11</td>\n",
       "      <td>0.335000</td>\n",
       "      <td>-0.083333</td>\n",
       "      <td>-0.1543</td>\n",
       "      <td>0.097</td>\n",
       "      <td>0.081</td>\n",
       "      <td>0.822</td>\n",
       "    </tr>\n",
       "    <tr>\n",
       "      <th>...</th>\n",
       "      <td>...</td>\n",
       "      <td>...</td>\n",
       "      <td>...</td>\n",
       "      <td>...</td>\n",
       "      <td>...</td>\n",
       "      <td>...</td>\n",
       "      <td>...</td>\n",
       "      <td>...</td>\n",
       "      <td>...</td>\n",
       "      <td>...</td>\n",
       "      <td>...</td>\n",
       "      <td>...</td>\n",
       "      <td>...</td>\n",
       "      <td>...</td>\n",
       "      <td>...</td>\n",
       "      <td>...</td>\n",
       "      <td>...</td>\n",
       "      <td>...</td>\n",
       "    </tr>\n",
       "    <tr>\n",
       "      <th>2023-02-20</th>\n",
       "      <td>24336.623047</td>\n",
       "      <td>25020.458984</td>\n",
       "      <td>23927.910156</td>\n",
       "      <td>24829.148438</td>\n",
       "      <td>28987376573</td>\n",
       "      <td>23118.348772</td>\n",
       "      <td>22932.937262</td>\n",
       "      <td>23662.873854</td>\n",
       "      <td>729.936592</td>\n",
       "      <td>595.598717</td>\n",
       "      <td>798.836485</td>\n",
       "      <td>1.310770e+12</td>\n",
       "      <td>0.575510</td>\n",
       "      <td>0.102041</td>\n",
       "      <td>0.1952</td>\n",
       "      <td>0.113</td>\n",
       "      <td>0.136</td>\n",
       "      <td>0.751</td>\n",
       "    </tr>\n",
       "    <tr>\n",
       "      <th>2023-02-21</th>\n",
       "      <td>24833.048828</td>\n",
       "      <td>25126.851562</td>\n",
       "      <td>24200.363281</td>\n",
       "      <td>24436.353516</td>\n",
       "      <td>31252098714</td>\n",
       "      <td>23202.067522</td>\n",
       "      <td>23044.301429</td>\n",
       "      <td>23781.870725</td>\n",
       "      <td>737.569296</td>\n",
       "      <td>623.992832</td>\n",
       "      <td>807.954471</td>\n",
       "      <td>1.279518e+12</td>\n",
       "      <td>0.350000</td>\n",
       "      <td>0.083333</td>\n",
       "      <td>0.8225</td>\n",
       "      <td>0.035</td>\n",
       "      <td>0.124</td>\n",
       "      <td>0.841</td>\n",
       "    </tr>\n",
       "    <tr>\n",
       "      <th>2023-02-22</th>\n",
       "      <td>24437.417969</td>\n",
       "      <td>24472.339844</td>\n",
       "      <td>23644.318359</td>\n",
       "      <td>24188.843750</td>\n",
       "      <td>30199996781</td>\n",
       "      <td>23291.313616</td>\n",
       "      <td>23129.082342</td>\n",
       "      <td>23844.481959</td>\n",
       "      <td>715.399618</td>\n",
       "      <td>642.274189</td>\n",
       "      <td>809.387829</td>\n",
       "      <td>1.249318e+12</td>\n",
       "      <td>0.283333</td>\n",
       "      <td>0.166667</td>\n",
       "      <td>-0.1027</td>\n",
       "      <td>0.052</td>\n",
       "      <td>0.040</td>\n",
       "      <td>0.908</td>\n",
       "    </tr>\n",
       "    <tr>\n",
       "      <th>2023-02-23</th>\n",
       "      <td>24190.718750</td>\n",
       "      <td>24572.089844</td>\n",
       "      <td>23693.919922</td>\n",
       "      <td>23947.492188</td>\n",
       "      <td>30476264066</td>\n",
       "      <td>23443.345982</td>\n",
       "      <td>23189.705293</td>\n",
       "      <td>23860.329687</td>\n",
       "      <td>670.624394</td>\n",
       "      <td>647.944230</td>\n",
       "      <td>814.300835</td>\n",
       "      <td>1.218842e+12</td>\n",
       "      <td>0.334407</td>\n",
       "      <td>0.057197</td>\n",
       "      <td>-0.2382</td>\n",
       "      <td>0.072</td>\n",
       "      <td>0.073</td>\n",
       "      <td>0.855</td>\n",
       "    </tr>\n",
       "    <tr>\n",
       "      <th>2023-02-24</th>\n",
       "      <td>23946.007812</td>\n",
       "      <td>24103.705078</td>\n",
       "      <td>23007.072266</td>\n",
       "      <td>23198.126953</td>\n",
       "      <td>26811744928</td>\n",
       "      <td>23553.841936</td>\n",
       "      <td>23190.329120</td>\n",
       "      <td>23758.452343</td>\n",
       "      <td>568.123223</td>\n",
       "      <td>631.980029</td>\n",
       "      <td>834.467405</td>\n",
       "      <td>1.192030e+12</td>\n",
       "      <td>0.733333</td>\n",
       "      <td>0.250000</td>\n",
       "      <td>0.7960</td>\n",
       "      <td>0.000</td>\n",
       "      <td>0.083</td>\n",
       "      <td>0.917</td>\n",
       "    </tr>\n",
       "  </tbody>\n",
       "</table>\n",
       "<p>1826 rows × 18 columns</p>\n",
       "</div>"
      ],
      "text/plain": [
       "                    Open          High           Low         Close  \\\n",
       "Date                                                                 \n",
       "2018-02-25   9796.419922   9923.219727   9407.059570   9664.730469   \n",
       "2018-02-26   9669.429688  10475.000000   9501.730469  10366.700195   \n",
       "2018-02-27  10393.900391  10878.500000  10246.099609  10725.599609   \n",
       "2018-02-28  10687.200195  11089.799805  10393.099609  10397.900391   \n",
       "2018-03-01  10385.000000  11052.299805  10352.700195  10951.000000   \n",
       "...                  ...           ...           ...           ...   \n",
       "2023-02-20  24336.623047  25020.458984  23927.910156  24829.148438   \n",
       "2023-02-21  24833.048828  25126.851562  24200.363281  24436.353516   \n",
       "2023-02-22  24437.417969  24472.339844  23644.318359  24188.843750   \n",
       "2023-02-23  24190.718750  24572.089844  23693.919922  23947.492188   \n",
       "2023-02-24  23946.007812  24103.705078  23007.072266  23198.126953   \n",
       "\n",
       "                 Volume        SMA_14        EMA_26        EMA_12        MACD  \\\n",
       "Date                                                                            \n",
       "2018-02-25   5706939904  10156.257952  10134.177741  10078.064620  -56.113122   \n",
       "2018-02-26   7287690240  10259.124372  10151.401627  10122.470093  -28.931534   \n",
       "2018-02-27   6966179840  10411.073661  10193.934811  10215.259249   21.324439   \n",
       "2018-02-28   6936189952  10475.592983  10209.043372  10243.357886   34.314514   \n",
       "2018-03-01   7317279744  10531.635812  10264.003122  10352.225904   88.222782   \n",
       "...                 ...           ...           ...           ...         ...   \n",
       "2023-02-20  28987376573  23118.348772  22932.937262  23662.873854  729.936592   \n",
       "2023-02-21  31252098714  23202.067522  23044.301429  23781.870725  737.569296   \n",
       "2023-02-22  30199996781  23291.313616  23129.082342  23844.481959  715.399618   \n",
       "2023-02-23  30476264066  23443.345982  23189.705293  23860.329687  670.624394   \n",
       "2023-02-24  26811744928  23553.841936  23190.329120  23758.452343  568.123223   \n",
       "\n",
       "                 MACDs         ATR           OBV  Subjectivity  Polarity  \\\n",
       "Date                                                                       \n",
       "2018-02-25 -174.033087  953.619535  1.290495e+11      0.441667  0.220833   \n",
       "2018-02-26 -145.012777  955.023106  1.363372e+11      0.446667  0.010000   \n",
       "2018-02-27 -111.745334  931.978626  1.433033e+11      0.518506  0.001623   \n",
       "2018-02-28  -82.533364  915.173024  1.363672e+11      0.459091  0.039394   \n",
       "2018-03-01  -48.382135  899.774923  1.436844e+11      0.335000 -0.083333   \n",
       "...                ...         ...           ...           ...       ...   \n",
       "2023-02-20  595.598717  798.836485  1.310770e+12      0.575510  0.102041   \n",
       "2023-02-21  623.992832  807.954471  1.279518e+12      0.350000  0.083333   \n",
       "2023-02-22  642.274189  809.387829  1.249318e+12      0.283333  0.166667   \n",
       "2023-02-23  647.944230  814.300835  1.218842e+12      0.334407  0.057197   \n",
       "2023-02-24  631.980029  834.467405  1.192030e+12      0.733333  0.250000   \n",
       "\n",
       "            sentiment  negative  positive  neutral  \n",
       "Date                                                \n",
       "2018-02-25     0.7788     0.021     0.087    0.892  \n",
       "2018-02-26    -0.6597     0.080     0.037    0.883  \n",
       "2018-02-27    -0.6705     0.073     0.034    0.892  \n",
       "2018-02-28     0.4939     0.038     0.093    0.869  \n",
       "2018-03-01    -0.1543     0.097     0.081    0.822  \n",
       "...               ...       ...       ...      ...  \n",
       "2023-02-20     0.1952     0.113     0.136    0.751  \n",
       "2023-02-21     0.8225     0.035     0.124    0.841  \n",
       "2023-02-22    -0.1027     0.052     0.040    0.908  \n",
       "2023-02-23    -0.2382     0.072     0.073    0.855  \n",
       "2023-02-24     0.7960     0.000     0.083    0.917  \n",
       "\n",
       "[1826 rows x 18 columns]"
      ]
     },
     "execution_count": 4,
     "metadata": {},
     "output_type": "execute_result"
    }
   ],
   "source": [
    "df_1"
   ]
  },
  {
   "cell_type": "code",
   "execution_count": 5,
   "id": "76d00d02",
   "metadata": {},
   "outputs": [],
   "source": [
    "#Split the dataset into trian and test\n",
    "\n",
    "train_data_1, test_data_1 = df_1[:int(len(df_1)*0.9)], df_1[int(len(df_1)*0.9):]"
   ]
  },
  {
   "cell_type": "code",
   "execution_count": 6,
   "id": "240e542c",
   "metadata": {},
   "outputs": [
    {
     "data": {
      "text/plain": [
       "<matplotlib.legend.Legend at 0x26ca4e9a160>"
      ]
     },
     "execution_count": 6,
     "metadata": {},
     "output_type": "execute_result"
    },
    {
     "data": {
      "image/png": "[encoded data removed]",
      "text/plain": [
       "<Figure size 720x432 with 1 Axes>"
      ]
     },
     "metadata": {},
     "output_type": "display_data"
    }
   ],
   "source": [
    "plt.figure(figsize=(10,6))\n",
    "plt.xlabel('Dates')\n",
    "plt.ylabel('Closing Prices')\n",
    "plt.plot(df_1.Close, 'green', label='Train data')\n",
    "plt.plot(test_data_1.Close, 'blue', label='Test data')\n",
    "plt.legend()"
   ]
  },
  {
   "cell_type": "markdown",
   "id": "591b1446",
   "metadata": {},
   "source": [
    "******************************************************************************************************************************************************************************"
   ]
  },
  {
   "cell_type": "markdown",
   "id": "62010aff",
   "metadata": {},
   "source": [
    "## 1. ARIMA MODEL"
   ]
  },
  {
   "cell_type": "code",
   "execution_count": 7,
   "id": "587d2fef",
   "metadata": {},
   "outputs": [],
   "source": [
    "from pmdarima.arima import auto_arima"
   ]
  },
  {
   "cell_type": "code",
   "execution_count": 8,
   "id": "f5d360aa",
   "metadata": {},
   "outputs": [],
   "source": [
    "arima_model = auto_arima(train_data_1['Close'], error_action='ignore', suppress_warnign=True, stepwise=False, approximation=False, seasonal=False)"
   ]
  },
  {
   "cell_type": "code",
   "execution_count": 9,
   "id": "305326d4",
   "metadata": {},
   "outputs": [
    {
     "data": {
      "text/html": [
       "<table class=\"simpletable\">\n",
       "<caption>SARIMAX Results</caption>\n",
       "<tr>\n",
       "  <th>Dep. Variable:</th>           <td>y</td>        <th>  No. Observations:  </th>    <td>1643</td>   \n",
       "</tr>\n",
       "<tr>\n",
       "  <th>Model:</th>           <td>SARIMAX(2, 1, 2)</td> <th>  Log Likelihood     </th> <td>-13730.782</td>\n",
       "</tr>\n",
       "<tr>\n",
       "  <th>Date:</th>            <td>Fri, 27 Oct 2023</td> <th>  AIC                </th>  <td>27473.563</td>\n",
       "</tr>\n",
       "<tr>\n",
       "  <th>Time:</th>                <td>12:36:55</td>     <th>  BIC                </th>  <td>27505.985</td>\n",
       "</tr>\n",
       "<tr>\n",
       "  <th>Sample:</th>             <td>02-25-2018</td>    <th>  HQIC               </th>  <td>27485.587</td>\n",
       "</tr>\n",
       "<tr>\n",
       "  <th></th>                   <td>- 08-25-2022</td>   <th>                     </th>      <td> </td>    \n",
       "</tr>\n",
       "<tr>\n",
       "  <th>Covariance Type:</th>        <td>opg</td>       <th>                     </th>      <td> </td>    \n",
       "</tr>\n",
       "</table>\n",
       "<table class=\"simpletable\">\n",
       "<tr>\n",
       "      <td></td>         <th>coef</th>     <th>std err</th>      <th>z</th>      <th>P>|z|</th>  <th>[0.025</th>    <th>0.975]</th>  \n",
       "</tr>\n",
       "<tr>\n",
       "  <th>intercept</th> <td>    5.6345</td> <td>   27.020</td> <td>    0.209</td> <td> 0.835</td> <td>  -47.324</td> <td>   58.593</td>\n",
       "</tr>\n",
       "<tr>\n",
       "  <th>ar.L1</th>     <td>    0.9261</td> <td>    0.012</td> <td>   77.310</td> <td> 0.000</td> <td>    0.903</td> <td>    0.950</td>\n",
       "</tr>\n",
       "<tr>\n",
       "  <th>ar.L2</th>     <td>   -0.9497</td> <td>    0.012</td> <td>  -79.013</td> <td> 0.000</td> <td>   -0.973</td> <td>   -0.926</td>\n",
       "</tr>\n",
       "<tr>\n",
       "  <th>ma.L1</th>     <td>   -0.9537</td> <td>    0.009</td> <td> -108.871</td> <td> 0.000</td> <td>   -0.971</td> <td>   -0.936</td>\n",
       "</tr>\n",
       "<tr>\n",
       "  <th>ma.L2</th>     <td>    0.9776</td> <td>    0.009</td> <td>  112.352</td> <td> 0.000</td> <td>    0.961</td> <td>    0.995</td>\n",
       "</tr>\n",
       "<tr>\n",
       "  <th>sigma2</th>    <td> 1.087e+06</td> <td> 1.69e+04</td> <td>   64.487</td> <td> 0.000</td> <td> 1.05e+06</td> <td> 1.12e+06</td>\n",
       "</tr>\n",
       "</table>\n",
       "<table class=\"simpletable\">\n",
       "<tr>\n",
       "  <th>Ljung-Box (L1) (Q):</th>     <td>0.14</td>  <th>  Jarque-Bera (JB):  </th> <td>5628.04</td>\n",
       "</tr>\n",
       "<tr>\n",
       "  <th>Prob(Q):</th>                <td>0.71</td>  <th>  Prob(JB):          </th>  <td>0.00</td>  \n",
       "</tr>\n",
       "<tr>\n",
       "  <th>Heteroskedasticity (H):</th> <td>26.24</td> <th>  Skew:              </th>  <td>-0.23</td> \n",
       "</tr>\n",
       "<tr>\n",
       "  <th>Prob(H) (two-sided):</th>    <td>0.00</td>  <th>  Kurtosis:          </th>  <td>12.06</td> \n",
       "</tr>\n",
       "</table><br/><br/>Warnings:<br/>[1] Covariance matrix calculated using the outer product of gradients (complex-step)."
      ],
      "text/latex": [
       "\\begin{center}\n",
       "\\begin{tabular}{lclc}\n",
       "\\toprule\n",
       "\\textbf{Dep. Variable:}          &        y         & \\textbf{  No. Observations:  } &    1643     \\\\\n",
       "\\textbf{Model:}                  & SARIMAX(2, 1, 2) & \\textbf{  Log Likelihood     } & -13730.782  \\\\\n",
       "\\textbf{Date:}                   & Fri, 27 Oct 2023 & \\textbf{  AIC                } & 27473.563   \\\\\n",
       "\\textbf{Time:}                   &     12:36:55     & \\textbf{  BIC                } & 27505.985   \\\\\n",
       "\\textbf{Sample:}                 &    02-25-2018    & \\textbf{  HQIC               } & 27485.587   \\\\\n",
       "\\textbf{}                        &   - 08-25-2022   & \\textbf{                     } &             \\\\\n",
       "\\textbf{Covariance Type:}        &       opg        & \\textbf{                     } &             \\\\\n",
       "\\bottomrule\n",
       "\\end{tabular}\n",
       "\\begin{tabular}{lcccccc}\n",
       "                   & \\textbf{coef} & \\textbf{std err} & \\textbf{z} & \\textbf{P$> |$z$|$} & \\textbf{[0.025} & \\textbf{0.975]}  \\\\\n",
       "\\midrule\n",
       "\\textbf{intercept} &       5.6345  &       27.020     &     0.209  &         0.835        &      -47.324    &       58.593     \\\\\n",
       "\\textbf{ar.L1}     &       0.9261  &        0.012     &    77.310  &         0.000        &        0.903    &        0.950     \\\\\n",
       "\\textbf{ar.L2}     &      -0.9497  &        0.012     &   -79.013  &         0.000        &       -0.973    &       -0.926     \\\\\n",
       "\\textbf{ma.L1}     &      -0.9537  &        0.009     &  -108.871  &         0.000        &       -0.971    &       -0.936     \\\\\n",
       "\\textbf{ma.L2}     &       0.9776  &        0.009     &   112.352  &         0.000        &        0.961    &        0.995     \\\\\n",
       "\\textbf{sigma2}    &    1.087e+06  &     1.69e+04     &    64.487  &         0.000        &     1.05e+06    &     1.12e+06     \\\\\n",
       "\\bottomrule\n",
       "\\end{tabular}\n",
       "\\begin{tabular}{lclc}\n",
       "\\textbf{Ljung-Box (L1) (Q):}     &  0.14 & \\textbf{  Jarque-Bera (JB):  } & 5628.04  \\\\\n",
       "\\textbf{Prob(Q):}                &  0.71 & \\textbf{  Prob(JB):          } &   0.00   \\\\\n",
       "\\textbf{Heteroskedasticity (H):} & 26.24 & \\textbf{  Skew:              } &  -0.23   \\\\\n",
       "\\textbf{Prob(H) (two-sided):}    &  0.00 & \\textbf{  Kurtosis:          } &  12.06   \\\\\n",
       "\\bottomrule\n",
       "\\end{tabular}\n",
       "%\\caption{SARIMAX Results}\n",
       "\\end{center}\n",
       "\n",
       "Warnings: \\newline\n",
       " [1] Covariance matrix calculated using the outer product of gradients (complex-step)."
      ],
      "text/plain": [
       "<class 'statsmodels.iolib.summary.Summary'>\n",
       "\"\"\"\n",
       "                               SARIMAX Results                                \n",
       "==============================================================================\n",
       "Dep. Variable:                      y   No. Observations:                 1643\n",
       "Model:               SARIMAX(2, 1, 2)   Log Likelihood              -13730.782\n",
       "Date:                Fri, 27 Oct 2023   AIC                          27473.563\n",
       "Time:                        12:36:55   BIC                          27505.985\n",
       "Sample:                    02-25-2018   HQIC                         27485.587\n",
       "                         - 08-25-2022                                         \n",
       "Covariance Type:                  opg                                         \n",
       "==============================================================================\n",
       "                 coef    std err          z      P>|z|      [0.025      0.975]\n",
       "------------------------------------------------------------------------------\n",
       "intercept      5.6345     27.020      0.209      0.835     -47.324      58.593\n",
       "ar.L1          0.9261      0.012     77.310      0.000       0.903       0.950\n",
       "ar.L2         -0.9497      0.012    -79.013      0.000      -0.973      -0.926\n",
       "ma.L1         -0.9537      0.009   -108.871      0.000      -0.971      -0.936\n",
       "ma.L2          0.9776      0.009    112.352      0.000       0.961       0.995\n",
       "sigma2      1.087e+06   1.69e+04     64.487      0.000    1.05e+06    1.12e+06\n",
       "===================================================================================\n",
       "Ljung-Box (L1) (Q):                   0.14   Jarque-Bera (JB):              5628.04\n",
       "Prob(Q):                              0.71   Prob(JB):                         0.00\n",
       "Heteroskedasticity (H):              26.24   Skew:                            -0.23\n",
       "Prob(H) (two-sided):                  0.00   Kurtosis:                        12.06\n",
       "===================================================================================\n",
       "\n",
       "Warnings:\n",
       "[1] Covariance matrix calculated using the outer product of gradients (complex-step).\n",
       "\"\"\""
      ]
     },
     "execution_count": 9,
     "metadata": {},
     "output_type": "execute_result"
    }
   ],
   "source": [
    "arima_model.summary()"
   ]
  },
  {
   "cell_type": "code",
   "execution_count": 10,
   "id": "3630fc1e",
   "metadata": {},
   "outputs": [],
   "source": [
    "n_future = len(test_data_1)"
   ]
  },
  {
   "cell_type": "code",
   "execution_count": 11,
   "id": "565a976e",
   "metadata": {},
   "outputs": [],
   "source": [
    "arima_pred = arima_model.predict(n_periods=n_future, return_conf_int=True, alpha=0.05)"
   ]
  },
  {
   "cell_type": "code",
   "execution_count": 12,
   "id": "c5fe41e1",
   "metadata": {},
   "outputs": [],
   "source": [
    "arima_pred = [pd.DataFrame(arima_pred[0], columns=['prediction']), pd.DataFrame(arima_pred[1], columns=['low_95', 'up_95'], index=arima_pred[0].index)]\n",
    "\n"
   ]
  },
  {
   "cell_type": "code",
   "execution_count": 13,
   "id": "5230c581",
   "metadata": {},
   "outputs": [],
   "source": [
    "arima_pred = pd.concat(arima_pred, axis=1)"
   ]
  },
  {
   "cell_type": "code",
   "execution_count": 14,
   "id": "1750a395",
   "metadata": {},
   "outputs": [
    {
     "data": {
      "text/html": [
       "<div>\n",
       "<style scoped>\n",
       "    .dataframe tbody tr th:only-of-type {\n",
       "        vertical-align: middle;\n",
       "    }\n",
       "\n",
       "    .dataframe tbody tr th {\n",
       "        vertical-align: top;\n",
       "    }\n",
       "\n",
       "    .dataframe thead th {\n",
       "        text-align: right;\n",
       "    }\n",
       "</style>\n",
       "<table border=\"1\" class=\"dataframe\">\n",
       "  <thead>\n",
       "    <tr style=\"text-align: right;\">\n",
       "      <th></th>\n",
       "      <th>prediction</th>\n",
       "      <th>low_95</th>\n",
       "      <th>up_95</th>\n",
       "    </tr>\n",
       "  </thead>\n",
       "  <tbody>\n",
       "    <tr>\n",
       "      <th>2022-08-26</th>\n",
       "      <td>21634.909130</td>\n",
       "      <td>19591.457327</td>\n",
       "      <td>23678.360933</td>\n",
       "    </tr>\n",
       "    <tr>\n",
       "      <th>2022-08-27</th>\n",
       "      <td>21590.991408</td>\n",
       "      <td>18740.623280</td>\n",
       "      <td>24441.359537</td>\n",
       "    </tr>\n",
       "    <tr>\n",
       "      <th>2022-08-28</th>\n",
       "      <td>21523.657371</td>\n",
       "      <td>18046.144589</td>\n",
       "      <td>25001.170154</td>\n",
       "    </tr>\n",
       "    <tr>\n",
       "      <th>2022-08-29</th>\n",
       "      <td>21508.643090</td>\n",
       "      <td>17471.808144</td>\n",
       "      <td>25545.478036</td>\n",
       "    </tr>\n",
       "    <tr>\n",
       "      <th>2022-08-30</th>\n",
       "      <td>21564.322326</td>\n",
       "      <td>17014.328226</td>\n",
       "      <td>26114.316426</td>\n",
       "    </tr>\n",
       "    <tr>\n",
       "      <th>...</th>\n",
       "      <td>...</td>\n",
       "      <td>...</td>\n",
       "      <td>...</td>\n",
       "    </tr>\n",
       "    <tr>\n",
       "      <th>2023-02-20</th>\n",
       "      <td>22539.220219</td>\n",
       "      <td>-4806.882804</td>\n",
       "      <td>49885.323241</td>\n",
       "    </tr>\n",
       "    <tr>\n",
       "      <th>2023-02-21</th>\n",
       "      <td>22545.119351</td>\n",
       "      <td>-4877.320918</td>\n",
       "      <td>49967.559619</td>\n",
       "    </tr>\n",
       "    <tr>\n",
       "      <th>2023-02-22</th>\n",
       "      <td>22551.379413</td>\n",
       "      <td>-4947.190823</td>\n",
       "      <td>50049.949650</td>\n",
       "    </tr>\n",
       "    <tr>\n",
       "      <th>2023-02-23</th>\n",
       "      <td>22557.208865</td>\n",
       "      <td>-5017.241403</td>\n",
       "      <td>50131.659133</td>\n",
       "    </tr>\n",
       "    <tr>\n",
       "      <th>2023-02-24</th>\n",
       "      <td>22562.296731</td>\n",
       "      <td>-5087.784254</td>\n",
       "      <td>50212.377715</td>\n",
       "    </tr>\n",
       "  </tbody>\n",
       "</table>\n",
       "<p>183 rows × 3 columns</p>\n",
       "</div>"
      ],
      "text/plain": [
       "              prediction        low_95         up_95\n",
       "2022-08-26  21634.909130  19591.457327  23678.360933\n",
       "2022-08-27  21590.991408  18740.623280  24441.359537\n",
       "2022-08-28  21523.657371  18046.144589  25001.170154\n",
       "2022-08-29  21508.643090  17471.808144  25545.478036\n",
       "2022-08-30  21564.322326  17014.328226  26114.316426\n",
       "...                  ...           ...           ...\n",
       "2023-02-20  22539.220219  -4806.882804  49885.323241\n",
       "2023-02-21  22545.119351  -4877.320918  49967.559619\n",
       "2023-02-22  22551.379413  -4947.190823  50049.949650\n",
       "2023-02-23  22557.208865  -5017.241403  50131.659133\n",
       "2023-02-24  22562.296731  -5087.784254  50212.377715\n",
       "\n",
       "[183 rows x 3 columns]"
      ]
     },
     "execution_count": 14,
     "metadata": {},
     "output_type": "execute_result"
    }
   ],
   "source": [
    "arima_pred"
   ]
  },
  {
   "cell_type": "code",
   "execution_count": 15,
   "id": "e94caa25",
   "metadata": {},
   "outputs": [
    {
     "data": {
      "image/png": "[encoded data removed]",
      "text/plain": [
       "<Figure size 864x576 with 1 Axes>"
      ]
     },
     "metadata": {},
     "output_type": "display_data"
    }
   ],
   "source": [
    "#Print results\n",
    "\n",
    "fig, ax = plt.subplots(1, figsize=(12, 8))\n",
    "\n",
    "ax = sns.lineplot(data=test_data_1['Close'], color='black', label= 'Actual')\n",
    "\n",
    "ax.plot(arima_pred.prediction, color='red', label= 'ARIMA')\n",
    "\n",
    "ax.fill_between(arima_pred.index, arima_pred.low_95, arima_pred.up_95, alpha=0.2, facecolor='red')\n",
    "\n",
    "ax.legend(loc='upper left')\n",
    "\n",
    "plt.tight_layout()\n",
    "plt.show()"
   ]
  },
  {
   "cell_type": "code",
   "execution_count": 16,
   "id": "07980e32",
   "metadata": {},
   "outputs": [
    {
     "name": "stdout",
     "output_type": "stream",
     "text": [
      "MSE: 12106086.819315514\n",
      "MAE: 2923.815705898013\n",
      "RMSE: 3479.380234943504\n",
      "MAPE: 0.16341654684169693\n"
     ]
    }
   ],
   "source": [
    "# report performance\n",
    "mse = mean_squared_error(test_data_1.Close, arima_pred.prediction)\n",
    "print('MSE: '+str(mse))\n",
    "mae = mean_absolute_error(test_data_1.Close, arima_pred.prediction)\n",
    "print('MAE: '+str(mae))\n",
    "rmse = math.sqrt(mean_squared_error(test_data_1.Close, arima_pred.prediction))\n",
    "print('RMSE: '+str(rmse))\n",
    "mape = np.mean(np.abs(arima_pred.prediction - test_data_1.Close)/np.abs(test_data_1.Close))\n",
    "print('MAPE: '+str(mape))"
   ]
  },
  {
   "cell_type": "markdown",
   "id": "f76e3b63",
   "metadata": {},
   "source": [
    "******************************************************************************************************************************************************************************"
   ]
  },
  {
   "cell_type": "markdown",
   "id": "522bb7f7",
   "metadata": {},
   "source": [
    "## 2. XGBoots MODEL"
   ]
  },
  {
   "cell_type": "code",
   "execution_count": 17,
   "id": "3a8af06f",
   "metadata": {},
   "outputs": [],
   "source": [
    "import xgboost as xgb\n",
    "from sklearn.model_selection import  GridSearchCV\n",
    "from sklearn.model_selection import train_test_split"
   ]
  },
  {
   "cell_type": "code",
   "execution_count": 18,
   "id": "6c13cbff",
   "metadata": {},
   "outputs": [],
   "source": [
    "# Split the data in target and independant variables\n",
    "\n",
    "x = df_1.drop(['Close'], axis = 1)\n",
    "\n",
    "y = df_1['Close']"
   ]
  },
  {
   "cell_type": "code",
   "execution_count": 19,
   "id": "335cf256",
   "metadata": {},
   "outputs": [],
   "source": [
    "# Splitting to training and testing data\n",
    "\n",
    "x_train, x_test, y_train, y_test = train_test_split(x,y, test_size = 0.2, shuffle=False)"
   ]
  },
  {
   "cell_type": "code",
   "execution_count": 20,
   "id": "04befeea",
   "metadata": {},
   "outputs": [
    {
     "name": "stdout",
     "output_type": "stream",
     "text": [
      "Best params: {'gamma': 0.005, 'learning_rate': 0.05, 'max_depth': 10, 'n_estimators': 400, 'random_state': 42}\n",
      "Best validation score = 0.9802578428069765\n",
      "Wall time: 7min 23s\n"
     ]
    }
   ],
   "source": [
    "%%time\n",
    "\n",
    "parameters = {\n",
    "    'n_estimators': [100, 200, 300, 400],\n",
    "    'learning_rate': [0.001, 0.005, 0.01, 0.05],\n",
    "    'max_depth': [8, 10, 12, 15],\n",
    "    'gamma': [0.001, 0.005, 0.01, 0.02],\n",
    "    'random_state': [42]\n",
    "}\n",
    "\n",
    "model = xgb.XGBRegressor( objective='reg:squarederror')\n",
    "clf = GridSearchCV(model, parameters)\n",
    "\n",
    "clf.fit(x_train, y_train)\n",
    "\n",
    "print(f'Best params: {clf.best_params_}')\n",
    "print(f'Best validation score = {clf.best_score_}')"
   ]
  },
  {
   "cell_type": "code",
   "execution_count": 21,
   "id": "7ce80035",
   "metadata": {},
   "outputs": [
    {
     "name": "stdout",
     "output_type": "stream",
     "text": [
      "Wall time: 982 ms\n"
     ]
    },
    {
     "data": {
      "text/plain": [
       "XGBRegressor(base_score=None, booster=None, callbacks=None,\n",
       "             colsample_bylevel=None, colsample_bynode=None,\n",
       "             colsample_bytree=None, early_stopping_rounds=None,\n",
       "             enable_categorical=False, eval_metric=None, feature_types=None,\n",
       "             gamma=0.005, gpu_id=None, grow_policy=None, importance_type=None,\n",
       "             interaction_constraints=None, learning_rate=0.05, max_bin=None,\n",
       "             max_cat_threshold=None, max_cat_to_onehot=None,\n",
       "             max_delta_step=None, max_depth=10, max_leaves=None,\n",
       "             min_child_weight=None, missing=nan, monotone_constraints=None,\n",
       "             n_estimators=400, n_jobs=None, num_parallel_tree=None,\n",
       "             predictor=None, random_state=42, ...)"
      ]
     },
     "execution_count": 21,
     "metadata": {},
     "output_type": "execute_result"
    }
   ],
   "source": [
    "%%time\n",
    "\n",
    "model_xgb = xgb.XGBRegressor(**clf.best_params_, objective='reg:squarederror')\n",
    "model_xgb.fit(x_train, y_train)"
   ]
  },
  {
   "cell_type": "code",
   "execution_count": 22,
   "id": "38e4c489",
   "metadata": {},
   "outputs": [],
   "source": [
    "y_pred = model_xgb.predict(x_test)"
   ]
  },
  {
   "cell_type": "code",
   "execution_count": 23,
   "id": "45f1983d",
   "metadata": {},
   "outputs": [],
   "source": [
    "# Create dataframe\n",
    "\n",
    "prediction = y_test.to_frame().copy()"
   ]
  },
  {
   "cell_type": "code",
   "execution_count": 24,
   "id": "f1702486",
   "metadata": {},
   "outputs": [],
   "source": [
    "# Model prediction on test data\n",
    "\n",
    "prediction['y_predr'] = y_pred"
   ]
  },
  {
   "cell_type": "code",
   "execution_count": 25,
   "id": "7ca3613a",
   "metadata": {},
   "outputs": [
    {
     "data": {
      "image/png": "[encoded data removed]",
      "text/plain": [
       "<Figure size 1200x480 with 1 Axes>"
      ]
     },
     "metadata": {},
     "output_type": "display_data"
    }
   ],
   "source": [
    "figure(figsize=(15, 6), dpi=80)\n",
    "\n",
    "plt.plot(prediction['Close'], label='y_test')\n",
    "plt.plot(prediction['y_predr'], label='y_predr')\n",
    "plt.legend()\n",
    "plt.show()"
   ]
  },
  {
   "cell_type": "code",
   "execution_count": 26,
   "id": "e19c0d74",
   "metadata": {},
   "outputs": [
    {
     "name": "stdout",
     "output_type": "stream",
     "text": [
      "MSE: 1179253.6455659554\n",
      "MAE: 883.043891948429\n",
      "RMSE: 1085.9344573066808\n",
      "MAPE: 0.039803559099890085\n"
     ]
    }
   ],
   "source": [
    "# report performance\n",
    "mse = mean_squared_error(prediction['Close'], prediction['y_predr'])\n",
    "print('MSE: '+str(mse))\n",
    "mae = mean_absolute_error(prediction['Close'], prediction['y_predr'])\n",
    "print('MAE: '+str(mae))\n",
    "rmse = math.sqrt(mean_squared_error(prediction['Close'],prediction['y_predr']))\n",
    "print('RMSE: '+str(rmse))\n",
    "mape = np.mean(np.abs(prediction['y_predr'] - prediction['Close'])/np.abs(prediction['Close']))\n",
    "print('MAPE: '+str(mape))"
   ]
  },
  {
   "cell_type": "markdown",
   "id": "7e5d7c77",
   "metadata": {},
   "source": [
    "******************************************************************************************************************************************************************************"
   ]
  },
  {
   "cell_type": "markdown",
   "id": "aa50d734",
   "metadata": {},
   "source": [
    "## 3. Long Short Term Memory (LSTM)"
   ]
  },
  {
   "cell_type": "code",
   "execution_count": 45,
   "id": "ce7dc438",
   "metadata": {},
   "outputs": [],
   "source": [
    "from sklearn.preprocessing import MinMaxScaler\n",
    "import tensorflow as tf\n",
    "from tensorflow.keras.models import Sequential\n",
    "from tensorflow.keras.layers import Dense, GRU,LSTM, Dropout"
   ]
  },
  {
   "cell_type": "code",
   "execution_count": 46,
   "id": "0c94f983",
   "metadata": {},
   "outputs": [],
   "source": [
    "#Scale train data\n",
    "\n",
    "scaler = MinMaxScaler()\n",
    "scaler = scaler.fit(df_1)\n",
    "scaled_data = scaler.transform(df_1)"
   ]
  },
  {
   "cell_type": "code",
   "execution_count": 47,
   "id": "103df45b",
   "metadata": {},
   "outputs": [
    {
     "data": {
      "text/plain": [
       "array([[0.10200268, 0.1014717 , 0.09836495, ..., 0.08015267, 0.3625    ,\n",
       "        0.69405099],\n",
       "       [0.10002813, 0.10989399, 0.09986313, ..., 0.30534351, 0.15416667,\n",
       "        0.66855524],\n",
       "       [0.11129281, 0.11605296, 0.11164285, ..., 0.27862595, 0.14166667,\n",
       "        0.69405099],\n",
       "       ...,\n",
       "       [0.32965329, 0.32354736, 0.32367098, ..., 0.19847328, 0.16666667,\n",
       "        0.73937677],\n",
       "       [0.3258174 , 0.32506993, 0.32445593, ..., 0.27480916, 0.30416667,\n",
       "        0.58923513],\n",
       "       [0.32201243, 0.31792058, 0.3135865 , ..., 0.        , 0.34583333,\n",
       "        0.76487252]])"
      ]
     },
     "execution_count": 47,
     "metadata": {},
     "output_type": "execute_result"
    }
   ],
   "source": [
    "scaled_data"
   ]
  },
  {
   "cell_type": "code",
   "execution_count": 48,
   "id": "95c6a8b7",
   "metadata": {},
   "outputs": [],
   "source": [
    "# Ya que el modelo LSTM alamcena memoria a largo plazo, creamos una extructura de 14 periodos.\n",
    "# Por lo que, para cada elemento de grupo de entrenamiento, se usan los 14 anteriores datos.\n",
    "# Basicamente cogemos los primeros 14 periodos para calcular el 15.\n",
    "\n",
    "def X_y (df, window_size):\n",
    "    \n",
    "    X=[]\n",
    "    y=[]\n",
    "    \n",
    "    for i in range(len(scaled_data)-window_size):\n",
    "        row = [a for a in scaled_data[i:i+window_size]]    \n",
    "        X.append(row)\n",
    "        label = scaled_data[i+window_size][9]       # Columna del precio de cierre\n",
    "        y.append(label)\n",
    "        \n",
    "    return np.array(X), np.array(y)"
   ]
  },
  {
   "cell_type": "code",
   "execution_count": 49,
   "id": "40526549",
   "metadata": {},
   "outputs": [
    {
     "data": {
      "text/plain": [
       "((1812, 14, 18), (1812,))"
      ]
     },
     "execution_count": 49,
     "metadata": {},
     "output_type": "execute_result"
    }
   ],
   "source": [
    "X, y = X_y(scaled_data, window_size=14)\n",
    "\n",
    "X.shape, y.shape"
   ]
  },
  {
   "cell_type": "code",
   "execution_count": 50,
   "id": "c970bf95",
   "metadata": {},
   "outputs": [],
   "source": [
    "X_train, Y_train = X[:int(X.shape[0]*0.9)], y[:int(X.shape[0]*0.9)]\n",
    "X_val, Y_val = X[int(X.shape[0]*0.9):int(X.shape[0]*0.95)], y[int(X.shape[0]*0.9):int(X.shape[0]*0.95)]\n",
    "X_test, Y_test = X[int(X.shape[0]*0.95):], y[int(X.shape[0]*0.95):]"
   ]
  },
  {
   "cell_type": "code",
   "execution_count": 51,
   "id": "70292bd1",
   "metadata": {},
   "outputs": [
    {
     "name": "stdout",
     "output_type": "stream",
     "text": [
      "Model: \"sequential_2\"\n",
      "_________________________________________________________________\n",
      " Layer (type)                Output Shape              Param #   \n",
      "=================================================================\n",
      " lstm_3 (LSTM)               (None, 14, 50)            13800     \n",
      "                                                                 \n",
      " dropout_6 (Dropout)         (None, 14, 50)            0         \n",
      "                                                                 \n",
      " lstm_4 (LSTM)               (None, 14, 50)            20200     \n",
      "                                                                 \n",
      " dropout_7 (Dropout)         (None, 14, 50)            0         \n",
      "                                                                 \n",
      " lstm_5 (LSTM)               (None, 50)                20200     \n",
      "                                                                 \n",
      " dropout_8 (Dropout)         (None, 50)                0         \n",
      "                                                                 \n",
      " dense_2 (Dense)             (None, 1)                 51        \n",
      "                                                                 \n",
      "=================================================================\n",
      "Total params: 54,251\n",
      "Trainable params: 54,251\n",
      "Non-trainable params: 0\n",
      "_________________________________________________________________\n"
     ]
    }
   ],
   "source": [
    "model2 = Sequential()\n",
    "\n",
    "model2.add(LSTM(units=50, return_sequences=True, input_shape=(X_train.shape[1],X_train.shape[2])))\n",
    "model2.add(Dropout(0.2))\n",
    "model2.add(LSTM(units=50, return_sequences=True))\n",
    "model2.add(Dropout(0.2))\n",
    "model2.add(LSTM(units=50))\n",
    "model2.add(Dropout(0.2))\n",
    "model2.add(Dense(units=1))\n",
    "\n",
    "model2.summary()"
   ]
  },
  {
   "cell_type": "code",
   "execution_count": 52,
   "id": "a4014a72",
   "metadata": {},
   "outputs": [],
   "source": [
    "model2.compile(tf.keras.optimizers.Adam(learning_rate=0.01), \n",
    "               loss=tf.keras.losses.MeanSquaredError())"
   ]
  },
  {
   "cell_type": "code",
   "execution_count": 53,
   "id": "f1ffaf3f",
   "metadata": {},
   "outputs": [
    {
     "name": "stdout",
     "output_type": "stream",
     "text": [
      "Epoch 1/10\n",
      "51/51 [==============================] - 6s 28ms/step - loss: 0.0529 - val_loss: 7.3379e-04\n",
      "Epoch 2/10\n",
      "51/51 [==============================] - 1s 10ms/step - loss: 0.0064 - val_loss: 1.1307e-04\n",
      "Epoch 3/10\n",
      "51/51 [==============================] - 1s 10ms/step - loss: 0.0039 - val_loss: 6.2578e-04\n",
      "Epoch 4/10\n",
      "51/51 [==============================] - 1s 10ms/step - loss: 0.0025 - val_loss: 3.3680e-04\n",
      "Epoch 5/10\n",
      "51/51 [==============================] - 0s 10ms/step - loss: 0.0026 - val_loss: 0.0012\n",
      "Epoch 6/10\n",
      "51/51 [==============================] - 1s 10ms/step - loss: 0.0020 - val_loss: 7.3999e-05\n",
      "Epoch 7/10\n",
      "51/51 [==============================] - 1s 10ms/step - loss: 0.0019 - val_loss: 7.1345e-05\n",
      "Epoch 8/10\n",
      "51/51 [==============================] - 1s 10ms/step - loss: 0.0015 - val_loss: 3.7328e-04\n",
      "Epoch 9/10\n",
      "51/51 [==============================] - 1s 10ms/step - loss: 0.0018 - val_loss: 1.6675e-04\n",
      "Epoch 10/10\n",
      "51/51 [==============================] - 1s 10ms/step - loss: 0.0012 - val_loss: 4.3216e-05\n"
     ]
    }
   ],
   "source": [
    "history2 = model2.fit(X_train, Y_train, epochs=10, validation_data=(X_val, Y_val) )"
   ]
  },
  {
   "cell_type": "code",
   "execution_count": 54,
   "id": "e3cff9c7",
   "metadata": {},
   "outputs": [
    {
     "name": "stdout",
     "output_type": "stream",
     "text": [
      "3/3 [==============================] - 1s 8ms/step\n"
     ]
    },
    {
     "data": {
      "text/html": [
       "<div>\n",
       "<style scoped>\n",
       "    .dataframe tbody tr th:only-of-type {\n",
       "        vertical-align: middle;\n",
       "    }\n",
       "\n",
       "    .dataframe tbody tr th {\n",
       "        vertical-align: top;\n",
       "    }\n",
       "\n",
       "    .dataframe thead th {\n",
       "        text-align: right;\n",
       "    }\n",
       "</style>\n",
       "<table border=\"1\" class=\"dataframe\">\n",
       "  <thead>\n",
       "    <tr style=\"text-align: right;\">\n",
       "      <th></th>\n",
       "      <th>Predictions</th>\n",
       "      <th>Real</th>\n",
       "    </tr>\n",
       "  </thead>\n",
       "  <tbody>\n",
       "    <tr>\n",
       "      <th>0</th>\n",
       "      <td>0.389654</td>\n",
       "      <td>0.405175</td>\n",
       "    </tr>\n",
       "    <tr>\n",
       "      <th>1</th>\n",
       "      <td>0.395090</td>\n",
       "      <td>0.407416</td>\n",
       "    </tr>\n",
       "    <tr>\n",
       "      <th>2</th>\n",
       "      <td>0.399326</td>\n",
       "      <td>0.409628</td>\n",
       "    </tr>\n",
       "    <tr>\n",
       "      <th>3</th>\n",
       "      <td>0.402726</td>\n",
       "      <td>0.412307</td>\n",
       "    </tr>\n",
       "    <tr>\n",
       "      <th>4</th>\n",
       "      <td>0.404128</td>\n",
       "      <td>0.416618</td>\n",
       "    </tr>\n",
       "    <tr>\n",
       "      <th>...</th>\n",
       "      <td>...</td>\n",
       "      <td>...</td>\n",
       "    </tr>\n",
       "    <tr>\n",
       "      <th>86</th>\n",
       "      <td>0.544120</td>\n",
       "      <td>0.562142</td>\n",
       "    </tr>\n",
       "    <tr>\n",
       "      <th>87</th>\n",
       "      <td>0.547204</td>\n",
       "      <td>0.565312</td>\n",
       "    </tr>\n",
       "    <tr>\n",
       "      <th>88</th>\n",
       "      <td>0.551367</td>\n",
       "      <td>0.567353</td>\n",
       "    </tr>\n",
       "    <tr>\n",
       "      <th>89</th>\n",
       "      <td>0.555386</td>\n",
       "      <td>0.567986</td>\n",
       "    </tr>\n",
       "    <tr>\n",
       "      <th>90</th>\n",
       "      <td>0.557329</td>\n",
       "      <td>0.566204</td>\n",
       "    </tr>\n",
       "  </tbody>\n",
       "</table>\n",
       "<p>91 rows × 2 columns</p>\n",
       "</div>"
      ],
      "text/plain": [
       "    Predictions      Real\n",
       "0      0.389654  0.405175\n",
       "1      0.395090  0.407416\n",
       "2      0.399326  0.409628\n",
       "3      0.402726  0.412307\n",
       "4      0.404128  0.416618\n",
       "..          ...       ...\n",
       "86     0.544120  0.562142\n",
       "87     0.547204  0.565312\n",
       "88     0.551367  0.567353\n",
       "89     0.555386  0.567986\n",
       "90     0.557329  0.566204\n",
       "\n",
       "[91 rows x 2 columns]"
      ]
     },
     "execution_count": 54,
     "metadata": {},
     "output_type": "execute_result"
    }
   ],
   "source": [
    "predictions2 = model2.predict(X_test).flatten()\n",
    "df2 = pd.DataFrame(data={'Predictions':predictions2, 'Real': Y_test})\n",
    "df2"
   ]
  },
  {
   "cell_type": "code",
   "execution_count": 55,
   "id": "1e33d86f",
   "metadata": {},
   "outputs": [
    {
     "data": {
      "text/plain": [
       "[<matplotlib.lines.Line2D at 0x26cd3ef0970>]"
      ]
     },
     "execution_count": 55,
     "metadata": {},
     "output_type": "execute_result"
    },
    {
     "data": {
      "image/png": "[encoded data removed]",
      "text/plain": [
       "<Figure size 432x288 with 1 Axes>"
      ]
     },
     "metadata": {},
     "output_type": "display_data"
    }
   ],
   "source": [
    "start = 0\n",
    "end = X_test.shape[0]\n",
    "\n",
    "plt.plot(df2.Predictions[start:end])\n",
    "plt.plot(df2.Real[start:end])"
   ]
  },
  {
   "cell_type": "code",
   "execution_count": 56,
   "id": "80905b6e",
   "metadata": {},
   "outputs": [
    {
     "name": "stdout",
     "output_type": "stream",
     "text": [
      "MSE: 0.000190875228551257\n",
      "MAE: 0.011243721651645654\n",
      "RMSE: 0.013815760151046956\n",
      "MAPE: 0.021021895383987858\n"
     ]
    }
   ],
   "source": [
    "# report performance\n",
    "mse = mean_squared_error(df2['Real'], df2['Predictions'])\n",
    "print('MSE: '+str(mse))\n",
    "mae = mean_absolute_error(df2['Real'], df2['Predictions'])\n",
    "print('MAE: '+str(mae))\n",
    "rmse = math.sqrt(mean_squared_error(df2['Real'],df2['Predictions']))\n",
    "print('RMSE: '+str(rmse))\n",
    "mape = np.mean(np.abs(df2['Predictions'] - df2['Real'])/np.abs(df2['Real']))\n",
    "print('MAPE: '+str(mape))"
   ]
  },
  {
   "cell_type": "markdown",
   "id": "e7677c34",
   "metadata": {},
   "source": [
    "******************************************************************************************************************************************************************************"
   ]
  },
  {
   "cell_type": "markdown",
   "id": "b0929cab",
   "metadata": {},
   "source": [
    "## 4. Gated Recurrent Network (GRU)"
   ]
  },
  {
   "cell_type": "code",
   "execution_count": 75,
   "id": "e26b46a9",
   "metadata": {},
   "outputs": [
    {
     "name": "stdout",
     "output_type": "stream",
     "text": [
      "Model: \"sequential_6\"\n",
      "_________________________________________________________________\n",
      " Layer (type)                Output Shape              Param #   \n",
      "=================================================================\n",
      " gru_12 (GRU)                (None, 14, 50)            10500     \n",
      "                                                                 \n",
      " dropout_18 (Dropout)        (None, 14, 50)            0         \n",
      "                                                                 \n",
      " gru_13 (GRU)                (None, 14, 50)            15300     \n",
      "                                                                 \n",
      " dropout_19 (Dropout)        (None, 14, 50)            0         \n",
      "                                                                 \n",
      " gru_14 (GRU)                (None, 50)                15300     \n",
      "                                                                 \n",
      " dropout_20 (Dropout)        (None, 50)                0         \n",
      "                                                                 \n",
      " dense_6 (Dense)             (None, 1)                 51        \n",
      "                                                                 \n",
      "=================================================================\n",
      "Total params: 41,151\n",
      "Trainable params: 41,151\n",
      "Non-trainable params: 0\n",
      "_________________________________________________________________\n"
     ]
    }
   ],
   "source": [
    "model1 = Sequential()\n",
    "\n",
    "model1.add(GRU(units=50, return_sequences=True, input_shape=(X_train.shape[1],X_train.shape[2])))\n",
    "model1.add(Dropout(0.2))\n",
    "model1.add(GRU(units=50, return_sequences=True))\n",
    "model1.add(Dropout(0.2))\n",
    "model1.add(GRU(units=50))\n",
    "model1.add(Dropout(0.2))\n",
    "model1.add(Dense(units=1))\n",
    "\n",
    "model1.summary()"
   ]
  },
  {
   "cell_type": "code",
   "execution_count": 76,
   "id": "61f2bf15",
   "metadata": {},
   "outputs": [],
   "source": [
    "model1.compile(tf.keras.optimizers.Adam(learning_rate=0.01), \n",
    "               loss=tf.keras.losses.MeanSquaredError())"
   ]
  },
  {
   "cell_type": "code",
   "execution_count": 77,
   "id": "04f12097",
   "metadata": {},
   "outputs": [
    {
     "name": "stdout",
     "output_type": "stream",
     "text": [
      "Epoch 1/10\n",
      "51/51 [==============================] - 6s 28ms/step - loss: 0.0443 - val_loss: 3.3219e-04\n",
      "Epoch 2/10\n",
      "51/51 [==============================] - 1s 10ms/step - loss: 0.0034 - val_loss: 3.7878e-04\n",
      "Epoch 3/10\n",
      "51/51 [==============================] - 1s 10ms/step - loss: 0.0034 - val_loss: 0.0027\n",
      "Epoch 4/10\n",
      "51/51 [==============================] - 1s 10ms/step - loss: 0.0024 - val_loss: 0.0030\n",
      "Epoch 5/10\n",
      "51/51 [==============================] - 1s 10ms/step - loss: 0.0021 - val_loss: 9.4857e-05\n",
      "Epoch 6/10\n",
      "51/51 [==============================] - 1s 11ms/step - loss: 0.0017 - val_loss: 1.5532e-04\n",
      "Epoch 7/10\n",
      "51/51 [==============================] - 1s 10ms/step - loss: 0.0015 - val_loss: 4.0812e-04\n",
      "Epoch 8/10\n",
      "51/51 [==============================] - 1s 11ms/step - loss: 0.0013 - val_loss: 2.3259e-04\n",
      "Epoch 9/10\n",
      "51/51 [==============================] - 1s 11ms/step - loss: 0.0012 - val_loss: 0.0017\n",
      "Epoch 10/10\n",
      "51/51 [==============================] - 1s 11ms/step - loss: 0.0012 - val_loss: 1.5335e-04\n"
     ]
    }
   ],
   "source": [
    "history1 = model1.fit(X_train, Y_train, epochs=10, validation_data=(X_val, Y_val) )"
   ]
  },
  {
   "cell_type": "code",
   "execution_count": 78,
   "id": "32d765be",
   "metadata": {},
   "outputs": [
    {
     "name": "stdout",
     "output_type": "stream",
     "text": [
      "3/3 [==============================] - 1s 12ms/step\n"
     ]
    },
    {
     "data": {
      "text/html": [
       "<div>\n",
       "<style scoped>\n",
       "    .dataframe tbody tr th:only-of-type {\n",
       "        vertical-align: middle;\n",
       "    }\n",
       "\n",
       "    .dataframe tbody tr th {\n",
       "        vertical-align: top;\n",
       "    }\n",
       "\n",
       "    .dataframe thead th {\n",
       "        text-align: right;\n",
       "    }\n",
       "</style>\n",
       "<table border=\"1\" class=\"dataframe\">\n",
       "  <thead>\n",
       "    <tr style=\"text-align: right;\">\n",
       "      <th></th>\n",
       "      <th>Predictions</th>\n",
       "      <th>Real</th>\n",
       "    </tr>\n",
       "  </thead>\n",
       "  <tbody>\n",
       "    <tr>\n",
       "      <th>0</th>\n",
       "      <td>0.406745</td>\n",
       "      <td>0.405175</td>\n",
       "    </tr>\n",
       "    <tr>\n",
       "      <th>1</th>\n",
       "      <td>0.410891</td>\n",
       "      <td>0.407416</td>\n",
       "    </tr>\n",
       "    <tr>\n",
       "      <th>2</th>\n",
       "      <td>0.410669</td>\n",
       "      <td>0.409628</td>\n",
       "    </tr>\n",
       "    <tr>\n",
       "      <th>3</th>\n",
       "      <td>0.413972</td>\n",
       "      <td>0.412307</td>\n",
       "    </tr>\n",
       "    <tr>\n",
       "      <th>4</th>\n",
       "      <td>0.415315</td>\n",
       "      <td>0.416618</td>\n",
       "    </tr>\n",
       "    <tr>\n",
       "      <th>...</th>\n",
       "      <td>...</td>\n",
       "      <td>...</td>\n",
       "    </tr>\n",
       "    <tr>\n",
       "      <th>86</th>\n",
       "      <td>0.556297</td>\n",
       "      <td>0.562142</td>\n",
       "    </tr>\n",
       "    <tr>\n",
       "      <th>87</th>\n",
       "      <td>0.560013</td>\n",
       "      <td>0.565312</td>\n",
       "    </tr>\n",
       "    <tr>\n",
       "      <th>88</th>\n",
       "      <td>0.566787</td>\n",
       "      <td>0.567353</td>\n",
       "    </tr>\n",
       "    <tr>\n",
       "      <th>89</th>\n",
       "      <td>0.568698</td>\n",
       "      <td>0.567986</td>\n",
       "    </tr>\n",
       "    <tr>\n",
       "      <th>90</th>\n",
       "      <td>0.571316</td>\n",
       "      <td>0.566204</td>\n",
       "    </tr>\n",
       "  </tbody>\n",
       "</table>\n",
       "<p>91 rows × 2 columns</p>\n",
       "</div>"
      ],
      "text/plain": [
       "    Predictions      Real\n",
       "0      0.406745  0.405175\n",
       "1      0.410891  0.407416\n",
       "2      0.410669  0.409628\n",
       "3      0.413972  0.412307\n",
       "4      0.415315  0.416618\n",
       "..          ...       ...\n",
       "86     0.556297  0.562142\n",
       "87     0.560013  0.565312\n",
       "88     0.566787  0.567353\n",
       "89     0.568698  0.567986\n",
       "90     0.571316  0.566204\n",
       "\n",
       "[91 rows x 2 columns]"
      ]
     },
     "execution_count": 78,
     "metadata": {},
     "output_type": "execute_result"
    }
   ],
   "source": [
    "predictions = model1.predict(X_test).flatten()\n",
    "df = pd.DataFrame(data={'Predictions':predictions, 'Real': Y_test})\n",
    "df"
   ]
  },
  {
   "cell_type": "code",
   "execution_count": 79,
   "id": "22d00fce",
   "metadata": {},
   "outputs": [
    {
     "data": {
      "text/plain": [
       "[<matplotlib.lines.Line2D at 0x26cd530c4f0>]"
      ]
     },
     "execution_count": 79,
     "metadata": {},
     "output_type": "execute_result"
    },
    {
     "data": {
      "image/png": "[encoded data removed]",
      "text/plain": [
       "<Figure size 432x288 with 1 Axes>"
      ]
     },
     "metadata": {},
     "output_type": "display_data"
    }
   ],
   "source": [
    "start = 0\n",
    "end = X_test.shape[0]\n",
    "\n",
    "plt.plot(df.Predictions[start:end])\n",
    "plt.plot(df.Real[start:end])"
   ]
  },
  {
   "cell_type": "code",
   "execution_count": 80,
   "id": "c9ea05af",
   "metadata": {},
   "outputs": [
    {
     "name": "stdout",
     "output_type": "stream",
     "text": [
      "MSE: 4.13155072080609e-05\n",
      "MAE: 0.005396014756681487\n",
      "RMSE: 0.006427713995508893\n",
      "MAPE: 0.01041329080423181\n"
     ]
    }
   ],
   "source": [
    "    \n",
    "# report performance\n",
    "mse = mean_squared_error(df['Real'], df['Predictions'])\n",
    "print('MSE: '+str(mse))\n",
    "mae = mean_absolute_error(df['Real'], df['Predictions'])\n",
    "print('MAE: '+str(mae))\n",
    "rmse = math.sqrt(mean_squared_error(df['Real'],df['Predictions']))\n",
    "print('RMSE: '+str(rmse))\n",
    "mape = np.mean(np.abs(df['Predictions'] - df['Real'])/np.abs(df['Real']))\n",
    "print('MAPE: '+str(mape))"
   ]
  },
  {
   "cell_type": "markdown",
   "id": "7303c6dd",
   "metadata": {},
   "source": [
    "******************************************************************************************************************************************************************************"
   ]
  }
 ],
 "metadata": {
  "kernelspec": {
   "display_name": "Python 3 (ipykernel)",
   "language": "python",
   "name": "python3"
  },
  "language_info": {
   "codemirror_mode": {
    "name": "ipython",
    "version": 3
   },
   "file_extension": ".py",
   "mimetype": "text/x-python",
   "name": "python",
   "nbconvert_exporter": "python",
   "pygments_lexer": "ipython3",
   "version": "3.9.7"
  }
 },
 "nbformat": 4,
 "nbformat_minor": 5
}
