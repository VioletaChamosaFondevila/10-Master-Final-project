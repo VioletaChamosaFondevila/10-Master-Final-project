{
 "cells": [
  {
   "cell_type": "markdown",
   "id": "6c4bef59",
   "metadata": {},
   "source": [
    "## ANÁLISIS DE SENTIMIENTOS DE NOTICIAS FINANCIERAS"
   ]
  },
  {
   "cell_type": "markdown",
   "id": "0e47d887",
   "metadata": {},
   "source": [
    "Importamos las librerías necesarias"
   ]
  },
  {
   "cell_type": "code",
   "execution_count": 1,
   "id": "620ba033",
   "metadata": {},
   "outputs": [],
   "source": [
    "import pandas as pd\n",
    "import numpy as np\n",
    "\n",
    "from textblob import TextBlob\n",
    "\n",
    "from vaderSentiment.vaderSentiment import SentimentIntensityAnalyzer\n",
    "from sklearn.model_selection import train_test_split\n",
    "from sklearn.metrics import accuracy_score, classification_report\n",
    "from sklearn.discriminant_analysis import LinearDiscriminantAnalysis"
   ]
  },
  {
   "cell_type": "markdown",
   "id": "d5bef6e7",
   "metadata": {},
   "source": [
    "Cargamos los datos extraidos a traves de la técnica de web scraping"
   ]
  },
  {
   "cell_type": "code",
   "execution_count": 2,
   "id": "708cd293",
   "metadata": {},
   "outputs": [],
   "source": [
    "df = pd.read_csv('BTC-news.csv')"
   ]
  },
  {
   "cell_type": "markdown",
   "id": "24a13994",
   "metadata": {},
   "source": [
    "Renombramos la columna de fechas para que coincida con los otros datasets. "
   ]
  },
  {
   "cell_type": "code",
   "execution_count": 3,
   "id": "4b5afecb",
   "metadata": {},
   "outputs": [],
   "source": [
    "df = df.rename(columns={\"begins_at\": \"Date\"})"
   ]
  },
  {
   "cell_type": "markdown",
   "id": "5b80ad62",
   "metadata": {},
   "source": [
    "Modificamos esa misma columna para tener el mismo formato que los otros datasets. "
   ]
  },
  {
   "cell_type": "code",
   "execution_count": 4,
   "id": "85b1bb48",
   "metadata": {},
   "outputs": [],
   "source": [
    "df.Date = pd.to_datetime(df.Date, format='%d/%m/%Y')"
   ]
  },
  {
   "cell_type": "markdown",
   "id": "042b0a35",
   "metadata": {},
   "source": [
    "Eliminamos de los articulos cualquier ruido para que el modelo sea capaz de interpretarlos."
   ]
  },
  {
   "cell_type": "code",
   "execution_count": 5,
   "id": "2f345a0f",
   "metadata": {
    "scrolled": true
   },
   "outputs": [
    {
     "name": "stderr",
     "output_type": "stream",
     "text": [
      "C:\\Users\\viole\\AppData\\Local\\Temp/ipykernel_44644/3620027302.py:1: FutureWarning: The default value of regex will change from True to False in a future version.\n",
      "  df.articles =  df.articles.str.replace('[^0-9a-zA-Z\\s]', ' ').astype('string')\n"
     ]
    }
   ],
   "source": [
    "df.articles =  df.articles.str.replace('[^0-9a-zA-Z\\s]', ' ').astype('string')"
   ]
  },
  {
   "cell_type": "markdown",
   "id": "ed33e605",
   "metadata": {},
   "source": [
    "Comprobamos los tipos de datos"
   ]
  },
  {
   "cell_type": "code",
   "execution_count": 6,
   "id": "880b501b",
   "metadata": {},
   "outputs": [
    {
     "data": {
      "text/plain": [
       "Date        datetime64[ns]\n",
       "articles            string\n",
       "dtype: object"
      ]
     },
     "execution_count": 6,
     "metadata": {},
     "output_type": "execute_result"
    }
   ],
   "source": [
    "df.dtypes"
   ]
  },
  {
   "cell_type": "markdown",
   "id": "361c4365",
   "metadata": {},
   "source": [
    "Configuramos la columna de fechas como índice."
   ]
  },
  {
   "cell_type": "code",
   "execution_count": 7,
   "id": "d060ead5",
   "metadata": {},
   "outputs": [],
   "source": [
    "df = df.set_index('Date')"
   ]
  },
  {
   "cell_type": "markdown",
   "id": "a743d55d",
   "metadata": {},
   "source": [
    "Comprobamos la existencia de valores nulos o de valores faltantes para el horizonte temporal."
   ]
  },
  {
   "cell_type": "code",
   "execution_count": 8,
   "id": "b9fa70a2",
   "metadata": {},
   "outputs": [
    {
     "data": {
      "text/plain": [
       "articles    0\n",
       "dtype: int64"
      ]
     },
     "execution_count": 8,
     "metadata": {},
     "output_type": "execute_result"
    }
   ],
   "source": [
    "df.isnull().sum()"
   ]
  },
  {
   "cell_type": "code",
   "execution_count": 9,
   "id": "04259dab",
   "metadata": {},
   "outputs": [
    {
     "data": {
      "text/plain": [
       "DatetimeIndex([], dtype='datetime64[ns]', freq='D')"
      ]
     },
     "execution_count": 9,
     "metadata": {},
     "output_type": "execute_result"
    }
   ],
   "source": [
    "pd.date_range(start = '2018-02-25', end = '2023-02-24' ).difference(df.index)"
   ]
  },
  {
   "cell_type": "markdown",
   "id": "eedaf420",
   "metadata": {},
   "source": [
    "Mostramos en dataframe"
   ]
  },
  {
   "cell_type": "code",
   "execution_count": 10,
   "id": "d34d2aeb",
   "metadata": {},
   "outputs": [
    {
     "data": {
      "text/html": [
       "<div>\n",
       "<style scoped>\n",
       "    .dataframe tbody tr th:only-of-type {\n",
       "        vertical-align: middle;\n",
       "    }\n",
       "\n",
       "    .dataframe tbody tr th {\n",
       "        vertical-align: top;\n",
       "    }\n",
       "\n",
       "    .dataframe thead th {\n",
       "        text-align: right;\n",
       "    }\n",
       "</style>\n",
       "<table border=\"1\" class=\"dataframe\">\n",
       "  <thead>\n",
       "    <tr style=\"text-align: right;\">\n",
       "      <th></th>\n",
       "      <th>articles</th>\n",
       "    </tr>\n",
       "    <tr>\n",
       "      <th>Date</th>\n",
       "      <th></th>\n",
       "    </tr>\n",
       "  </thead>\n",
       "  <tbody>\n",
       "    <tr>\n",
       "      <th>2018-02-25</th>\n",
       "      <td>Original Pizza Day Purchaser Does It Again W...</td>\n",
       "    </tr>\n",
       "    <tr>\n",
       "      <th>2018-02-26</th>\n",
       "      <td>Bitcoin Pizza Day 2  How A Lightning Payment...</td>\n",
       "    </tr>\n",
       "    <tr>\n",
       "      <th>2018-02-27</th>\n",
       "      <td>Rapper 50 Cent  Who Bragged About Owning Bit...</td>\n",
       "    </tr>\n",
       "    <tr>\n",
       "      <th>2018-02-28</th>\n",
       "      <td>This Is Who Controls Bitcoin    British Man ...</td>\n",
       "    </tr>\n",
       "    <tr>\n",
       "      <th>2018-03-01</th>\n",
       "      <td>Bitcoin makes inroads in LA s residential re...</td>\n",
       "    </tr>\n",
       "    <tr>\n",
       "      <th>...</th>\n",
       "      <td>...</td>\n",
       "    </tr>\n",
       "    <tr>\n",
       "      <th>2023-02-20</th>\n",
       "      <td>Bitcoin regains  25K amid hope record China ...</td>\n",
       "    </tr>\n",
       "    <tr>\n",
       "      <th>2023-02-21</th>\n",
       "      <td>Bitcoin active addresses  concern  analyst d...</td>\n",
       "    </tr>\n",
       "    <tr>\n",
       "      <th>2023-02-22</th>\n",
       "      <td>Bitcoin  Ethereum Technical Analysis  BTC Fa...</td>\n",
       "    </tr>\n",
       "    <tr>\n",
       "      <th>2023-02-23</th>\n",
       "      <td>Bitcoin bears attempt to pin BTC price under...</td>\n",
       "    </tr>\n",
       "    <tr>\n",
       "      <th>2023-02-24</th>\n",
       "      <td>Bitcoin on chain data highlights key similar...</td>\n",
       "    </tr>\n",
       "  </tbody>\n",
       "</table>\n",
       "<p>1826 rows × 1 columns</p>\n",
       "</div>"
      ],
      "text/plain": [
       "                                                     articles\n",
       "Date                                                         \n",
       "2018-02-25    Original Pizza Day Purchaser Does It Again W...\n",
       "2018-02-26    Bitcoin Pizza Day 2  How A Lightning Payment...\n",
       "2018-02-27    Rapper 50 Cent  Who Bragged About Owning Bit...\n",
       "2018-02-28    This Is Who Controls Bitcoin    British Man ...\n",
       "2018-03-01    Bitcoin makes inroads in LA s residential re...\n",
       "...                                                       ...\n",
       "2023-02-20    Bitcoin regains  25K amid hope record China ...\n",
       "2023-02-21    Bitcoin active addresses  concern  analyst d...\n",
       "2023-02-22    Bitcoin  Ethereum Technical Analysis  BTC Fa...\n",
       "2023-02-23    Bitcoin bears attempt to pin BTC price under...\n",
       "2023-02-24    Bitcoin on chain data highlights key similar...\n",
       "\n",
       "[1826 rows x 1 columns]"
      ]
     },
     "execution_count": 10,
     "metadata": {},
     "output_type": "execute_result"
    }
   ],
   "source": [
    "df"
   ]
  },
  {
   "cell_type": "markdown",
   "id": "4b153410",
   "metadata": {},
   "source": [
    "************************************************************************************************************************************************************************************************************************************************************************************************************************************************************************************************************************************************************************************************************************************************************************************************************************************************************************************************************************************"
   ]
  },
  {
   "cell_type": "markdown",
   "id": "07aa7eb5",
   "metadata": {},
   "source": [
    "### Vamos a calcular la polaridaad y subjetividad"
   ]
  },
  {
   "cell_type": "code",
   "execution_count": 11,
   "id": "9e0812a8",
   "metadata": {},
   "outputs": [],
   "source": [
    "def Subjectivity(text):\n",
    "    return TextBlob(text).sentiment.subjectivity\n",
    "\n",
    "\n",
    "def Polarity(text):\n",
    "    return TextBlob(text).sentiment.polarity"
   ]
  },
  {
   "cell_type": "code",
   "execution_count": 12,
   "id": "4c96c8d1",
   "metadata": {},
   "outputs": [],
   "source": [
    "df['Subjectivity'] = df['articles'].apply(Subjectivity)\n",
    "\n",
    "df['Polarity'] = df['articles'].apply(Polarity)"
   ]
  },
  {
   "cell_type": "markdown",
   "id": "08c8b6fd",
   "metadata": {},
   "source": [
    "************************************************************************************************************************************************************************************************************************************************************************************************************************************************************************************************************************************************************************************************************************************************************************************************************************************************************************************************************************************"
   ]
  },
  {
   "cell_type": "markdown",
   "id": "3b4f3185",
   "metadata": {},
   "source": [
    "### Vamos a calcular el sentiment score"
   ]
  },
  {
   "cell_type": "code",
   "execution_count": 13,
   "id": "5b7590b0",
   "metadata": {},
   "outputs": [],
   "source": [
    "def Sentiment(text):\n",
    "    sia = SentimentIntensityAnalyzer()\n",
    "    sentiment = sia.polarity_scores(text)\n",
    "    return sentiment"
   ]
  },
  {
   "cell_type": "code",
   "execution_count": 14,
   "id": "32569ede",
   "metadata": {},
   "outputs": [],
   "source": [
    "compound = []\n",
    "neg = []\n",
    "pos = []\n",
    "neu = []\n",
    "\n",
    "\n",
    "for i in range(len(df.articles)):\n",
    "    SIA = Sentiment(df.articles[i])\n",
    "    compound.append(SIA['compound'])\n",
    "    neg.append(SIA['neg'])\n",
    "    pos.append(SIA['pos'])\n",
    "    neu.append(SIA['neu'])"
   ]
  },
  {
   "cell_type": "code",
   "execution_count": 15,
   "id": "93291f49",
   "metadata": {},
   "outputs": [],
   "source": [
    "df['sentiment'] =  compound\n",
    "df['negative'] =  neg\n",
    "df['positive'] =  pos\n",
    "df['neutral'] =  neu"
   ]
  },
  {
   "cell_type": "markdown",
   "id": "a6603561",
   "metadata": {},
   "source": [
    "************************************************************************************************************************************************************************************************************************************************************************************************************************************************************************************************************************************************************************************************************************************************************************************************************************************************************************************************************************************"
   ]
  },
  {
   "cell_type": "markdown",
   "id": "bea46a4a",
   "metadata": {},
   "source": [
    "Veamos el dataset final"
   ]
  },
  {
   "cell_type": "code",
   "execution_count": 16,
   "id": "0482481a",
   "metadata": {},
   "outputs": [
    {
     "data": {
      "text/html": [
       "<div>\n",
       "<style scoped>\n",
       "    .dataframe tbody tr th:only-of-type {\n",
       "        vertical-align: middle;\n",
       "    }\n",
       "\n",
       "    .dataframe tbody tr th {\n",
       "        vertical-align: top;\n",
       "    }\n",
       "\n",
       "    .dataframe thead th {\n",
       "        text-align: right;\n",
       "    }\n",
       "</style>\n",
       "<table border=\"1\" class=\"dataframe\">\n",
       "  <thead>\n",
       "    <tr style=\"text-align: right;\">\n",
       "      <th></th>\n",
       "      <th>articles</th>\n",
       "      <th>Subjectivity</th>\n",
       "      <th>Polarity</th>\n",
       "      <th>sentiment</th>\n",
       "      <th>negative</th>\n",
       "      <th>positive</th>\n",
       "      <th>neutral</th>\n",
       "    </tr>\n",
       "    <tr>\n",
       "      <th>Date</th>\n",
       "      <th></th>\n",
       "      <th></th>\n",
       "      <th></th>\n",
       "      <th></th>\n",
       "      <th></th>\n",
       "      <th></th>\n",
       "      <th></th>\n",
       "    </tr>\n",
       "  </thead>\n",
       "  <tbody>\n",
       "    <tr>\n",
       "      <th>2018-02-25</th>\n",
       "      <td>Original Pizza Day Purchaser Does It Again W...</td>\n",
       "      <td>0.441667</td>\n",
       "      <td>0.220833</td>\n",
       "      <td>0.7788</td>\n",
       "      <td>0.021</td>\n",
       "      <td>0.087</td>\n",
       "      <td>0.892</td>\n",
       "    </tr>\n",
       "    <tr>\n",
       "      <th>2018-02-26</th>\n",
       "      <td>Bitcoin Pizza Day 2  How A Lightning Payment...</td>\n",
       "      <td>0.446667</td>\n",
       "      <td>0.010000</td>\n",
       "      <td>-0.6597</td>\n",
       "      <td>0.080</td>\n",
       "      <td>0.037</td>\n",
       "      <td>0.883</td>\n",
       "    </tr>\n",
       "    <tr>\n",
       "      <th>2018-02-27</th>\n",
       "      <td>Rapper 50 Cent  Who Bragged About Owning Bit...</td>\n",
       "      <td>0.518506</td>\n",
       "      <td>0.001623</td>\n",
       "      <td>-0.6705</td>\n",
       "      <td>0.073</td>\n",
       "      <td>0.034</td>\n",
       "      <td>0.892</td>\n",
       "    </tr>\n",
       "    <tr>\n",
       "      <th>2018-02-28</th>\n",
       "      <td>This Is Who Controls Bitcoin    British Man ...</td>\n",
       "      <td>0.459091</td>\n",
       "      <td>0.039394</td>\n",
       "      <td>0.4939</td>\n",
       "      <td>0.038</td>\n",
       "      <td>0.093</td>\n",
       "      <td>0.869</td>\n",
       "    </tr>\n",
       "    <tr>\n",
       "      <th>2018-03-01</th>\n",
       "      <td>Bitcoin makes inroads in LA s residential re...</td>\n",
       "      <td>0.335000</td>\n",
       "      <td>-0.083333</td>\n",
       "      <td>-0.1543</td>\n",
       "      <td>0.097</td>\n",
       "      <td>0.081</td>\n",
       "      <td>0.822</td>\n",
       "    </tr>\n",
       "    <tr>\n",
       "      <th>...</th>\n",
       "      <td>...</td>\n",
       "      <td>...</td>\n",
       "      <td>...</td>\n",
       "      <td>...</td>\n",
       "      <td>...</td>\n",
       "      <td>...</td>\n",
       "      <td>...</td>\n",
       "    </tr>\n",
       "    <tr>\n",
       "      <th>2023-02-20</th>\n",
       "      <td>Bitcoin regains  25K amid hope record China ...</td>\n",
       "      <td>0.575510</td>\n",
       "      <td>0.102041</td>\n",
       "      <td>0.1952</td>\n",
       "      <td>0.113</td>\n",
       "      <td>0.136</td>\n",
       "      <td>0.751</td>\n",
       "    </tr>\n",
       "    <tr>\n",
       "      <th>2023-02-21</th>\n",
       "      <td>Bitcoin active addresses  concern  analyst d...</td>\n",
       "      <td>0.350000</td>\n",
       "      <td>0.083333</td>\n",
       "      <td>0.8225</td>\n",
       "      <td>0.035</td>\n",
       "      <td>0.124</td>\n",
       "      <td>0.841</td>\n",
       "    </tr>\n",
       "    <tr>\n",
       "      <th>2023-02-22</th>\n",
       "      <td>Bitcoin  Ethereum Technical Analysis  BTC Fa...</td>\n",
       "      <td>0.283333</td>\n",
       "      <td>0.166667</td>\n",
       "      <td>-0.1027</td>\n",
       "      <td>0.052</td>\n",
       "      <td>0.040</td>\n",
       "      <td>0.908</td>\n",
       "    </tr>\n",
       "    <tr>\n",
       "      <th>2023-02-23</th>\n",
       "      <td>Bitcoin bears attempt to pin BTC price under...</td>\n",
       "      <td>0.334407</td>\n",
       "      <td>0.057197</td>\n",
       "      <td>-0.2382</td>\n",
       "      <td>0.072</td>\n",
       "      <td>0.073</td>\n",
       "      <td>0.855</td>\n",
       "    </tr>\n",
       "    <tr>\n",
       "      <th>2023-02-24</th>\n",
       "      <td>Bitcoin on chain data highlights key similar...</td>\n",
       "      <td>0.733333</td>\n",
       "      <td>0.250000</td>\n",
       "      <td>0.7960</td>\n",
       "      <td>0.000</td>\n",
       "      <td>0.083</td>\n",
       "      <td>0.917</td>\n",
       "    </tr>\n",
       "  </tbody>\n",
       "</table>\n",
       "<p>1826 rows × 7 columns</p>\n",
       "</div>"
      ],
      "text/plain": [
       "                                                     articles  Subjectivity  \\\n",
       "Date                                                                          \n",
       "2018-02-25    Original Pizza Day Purchaser Does It Again W...      0.441667   \n",
       "2018-02-26    Bitcoin Pizza Day 2  How A Lightning Payment...      0.446667   \n",
       "2018-02-27    Rapper 50 Cent  Who Bragged About Owning Bit...      0.518506   \n",
       "2018-02-28    This Is Who Controls Bitcoin    British Man ...      0.459091   \n",
       "2018-03-01    Bitcoin makes inroads in LA s residential re...      0.335000   \n",
       "...                                                       ...           ...   \n",
       "2023-02-20    Bitcoin regains  25K amid hope record China ...      0.575510   \n",
       "2023-02-21    Bitcoin active addresses  concern  analyst d...      0.350000   \n",
       "2023-02-22    Bitcoin  Ethereum Technical Analysis  BTC Fa...      0.283333   \n",
       "2023-02-23    Bitcoin bears attempt to pin BTC price under...      0.334407   \n",
       "2023-02-24    Bitcoin on chain data highlights key similar...      0.733333   \n",
       "\n",
       "            Polarity  sentiment  negative  positive  neutral  \n",
       "Date                                                          \n",
       "2018-02-25  0.220833     0.7788     0.021     0.087    0.892  \n",
       "2018-02-26  0.010000    -0.6597     0.080     0.037    0.883  \n",
       "2018-02-27  0.001623    -0.6705     0.073     0.034    0.892  \n",
       "2018-02-28  0.039394     0.4939     0.038     0.093    0.869  \n",
       "2018-03-01 -0.083333    -0.1543     0.097     0.081    0.822  \n",
       "...              ...        ...       ...       ...      ...  \n",
       "2023-02-20  0.102041     0.1952     0.113     0.136    0.751  \n",
       "2023-02-21  0.083333     0.8225     0.035     0.124    0.841  \n",
       "2023-02-22  0.166667    -0.1027     0.052     0.040    0.908  \n",
       "2023-02-23  0.057197    -0.2382     0.072     0.073    0.855  \n",
       "2023-02-24  0.250000     0.7960     0.000     0.083    0.917  \n",
       "\n",
       "[1826 rows x 7 columns]"
      ]
     },
     "execution_count": 16,
     "metadata": {},
     "output_type": "execute_result"
    }
   ],
   "source": [
    "df"
   ]
  },
  {
   "cell_type": "markdown",
   "id": "8644e447",
   "metadata": {},
   "source": [
    "Comprobamos los tipos de datos"
   ]
  },
  {
   "cell_type": "code",
   "execution_count": 17,
   "id": "1676e912",
   "metadata": {},
   "outputs": [
    {
     "data": {
      "text/plain": [
       "articles         string\n",
       "Subjectivity    float64\n",
       "Polarity        float64\n",
       "sentiment       float64\n",
       "negative        float64\n",
       "positive        float64\n",
       "neutral         float64\n",
       "dtype: object"
      ]
     },
     "execution_count": 17,
     "metadata": {},
     "output_type": "execute_result"
    }
   ],
   "source": [
    "df.dtypes"
   ]
  },
  {
   "cell_type": "markdown",
   "id": "8f9f2ee9",
   "metadata": {},
   "source": [
    "Comprobamos la existencia de valores nulos o de valores faltantes para el horizonte temporal."
   ]
  },
  {
   "cell_type": "code",
   "execution_count": 18,
   "id": "f10da7e8",
   "metadata": {},
   "outputs": [
    {
     "data": {
      "text/plain": [
       "articles        0\n",
       "Subjectivity    0\n",
       "Polarity        0\n",
       "sentiment       0\n",
       "negative        0\n",
       "positive        0\n",
       "neutral         0\n",
       "dtype: int64"
      ]
     },
     "execution_count": 18,
     "metadata": {},
     "output_type": "execute_result"
    }
   ],
   "source": [
    "df.isnull().sum()"
   ]
  },
  {
   "cell_type": "code",
   "execution_count": 19,
   "id": "fea22c83",
   "metadata": {},
   "outputs": [
    {
     "data": {
      "text/plain": [
       "DatetimeIndex([], dtype='datetime64[ns]', freq='D')"
      ]
     },
     "execution_count": 19,
     "metadata": {},
     "output_type": "execute_result"
    }
   ],
   "source": [
    "pd.date_range(start = '2018-02-25', end = '2023-02-24' ).difference(df.index)"
   ]
  },
  {
   "cell_type": "markdown",
   "id": "5f8a35ee",
   "metadata": {},
   "source": [
    "Guardamos el dataset final en un archivo CSV llamado 'BTC_sentiment'."
   ]
  },
  {
   "cell_type": "code",
   "execution_count": 20,
   "id": "c22f0168",
   "metadata": {},
   "outputs": [],
   "source": [
    "df.to_csv('BTC_sentiment.csv', encoding='utf-8')"
   ]
  }
 ],
 "metadata": {
  "kernelspec": {
   "display_name": "Python 3 (ipykernel)",
   "language": "python",
   "name": "python3"
  },
  "language_info": {
   "codemirror_mode": {
    "name": "ipython",
    "version": 3
   },
   "file_extension": ".py",
   "mimetype": "text/x-python",
   "name": "python",
   "nbconvert_exporter": "python",
   "pygments_lexer": "ipython3",
   "version": "3.9.7"
  }
 },
 "nbformat": 4,
 "nbformat_minor": 5
}
