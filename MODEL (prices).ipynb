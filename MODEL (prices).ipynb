{
 "cells": [
  {
   "cell_type": "code",
   "execution_count": 1,
   "id": "3fe51b30",
   "metadata": {},
   "outputs": [],
   "source": [
    "import pandas as pd\n",
    "import numpy as np\n",
    "\n",
    "import matplotlib.pyplot as plt\n",
    "from matplotlib.pyplot import figure\n",
    "import seaborn as sns\n",
    "sns.set()\n",
    "\n",
    "from sklearn.metrics import mean_squared_error, mean_absolute_error\n",
    "import math"
   ]
  },
  {
   "cell_type": "code",
   "execution_count": 2,
   "id": "17c73b76",
   "metadata": {},
   "outputs": [],
   "source": [
    "df_1 = pd.read_csv('Prices_BTC.csv', index_col='Date')"
   ]
  },
  {
   "cell_type": "code",
   "execution_count": 3,
   "id": "968cfb31",
   "metadata": {},
   "outputs": [],
   "source": [
    "df_1.index = pd.to_datetime(df_1.index)"
   ]
  },
  {
   "cell_type": "code",
   "execution_count": 4,
   "id": "4758d6a9",
   "metadata": {},
   "outputs": [
    {
     "data": {
      "text/html": [
       "<div>\n",
       "<style scoped>\n",
       "    .dataframe tbody tr th:only-of-type {\n",
       "        vertical-align: middle;\n",
       "    }\n",
       "\n",
       "    .dataframe tbody tr th {\n",
       "        vertical-align: top;\n",
       "    }\n",
       "\n",
       "    .dataframe thead th {\n",
       "        text-align: right;\n",
       "    }\n",
       "</style>\n",
       "<table border=\"1\" class=\"dataframe\">\n",
       "  <thead>\n",
       "    <tr style=\"text-align: right;\">\n",
       "      <th></th>\n",
       "      <th>Open</th>\n",
       "      <th>High</th>\n",
       "      <th>Low</th>\n",
       "      <th>Close</th>\n",
       "      <th>Volume</th>\n",
       "    </tr>\n",
       "    <tr>\n",
       "      <th>Date</th>\n",
       "      <th></th>\n",
       "      <th></th>\n",
       "      <th></th>\n",
       "      <th></th>\n",
       "      <th></th>\n",
       "    </tr>\n",
       "  </thead>\n",
       "  <tbody>\n",
       "    <tr>\n",
       "      <th>2014-09-17</th>\n",
       "      <td>465.864014</td>\n",
       "      <td>468.174011</td>\n",
       "      <td>452.421997</td>\n",
       "      <td>457.334015</td>\n",
       "      <td>21056800</td>\n",
       "    </tr>\n",
       "    <tr>\n",
       "      <th>2014-09-18</th>\n",
       "      <td>456.859985</td>\n",
       "      <td>456.859985</td>\n",
       "      <td>413.104004</td>\n",
       "      <td>424.440002</td>\n",
       "      <td>34483200</td>\n",
       "    </tr>\n",
       "    <tr>\n",
       "      <th>2014-09-19</th>\n",
       "      <td>424.102997</td>\n",
       "      <td>427.834991</td>\n",
       "      <td>384.532013</td>\n",
       "      <td>394.795990</td>\n",
       "      <td>37919700</td>\n",
       "    </tr>\n",
       "    <tr>\n",
       "      <th>2014-09-20</th>\n",
       "      <td>394.673004</td>\n",
       "      <td>423.295990</td>\n",
       "      <td>389.882996</td>\n",
       "      <td>408.903992</td>\n",
       "      <td>36863600</td>\n",
       "    </tr>\n",
       "    <tr>\n",
       "      <th>2014-09-21</th>\n",
       "      <td>408.084991</td>\n",
       "      <td>412.425995</td>\n",
       "      <td>393.181000</td>\n",
       "      <td>398.821014</td>\n",
       "      <td>26580100</td>\n",
       "    </tr>\n",
       "    <tr>\n",
       "      <th>...</th>\n",
       "      <td>...</td>\n",
       "      <td>...</td>\n",
       "      <td>...</td>\n",
       "      <td>...</td>\n",
       "      <td>...</td>\n",
       "    </tr>\n",
       "    <tr>\n",
       "      <th>2023-10-06</th>\n",
       "      <td>27412.123047</td>\n",
       "      <td>28252.537109</td>\n",
       "      <td>27215.552734</td>\n",
       "      <td>27946.597656</td>\n",
       "      <td>13492391599</td>\n",
       "    </tr>\n",
       "    <tr>\n",
       "      <th>2023-10-07</th>\n",
       "      <td>27946.781250</td>\n",
       "      <td>28028.091797</td>\n",
       "      <td>27870.423828</td>\n",
       "      <td>27968.839844</td>\n",
       "      <td>6553044316</td>\n",
       "    </tr>\n",
       "    <tr>\n",
       "      <th>2023-10-08</th>\n",
       "      <td>27971.677734</td>\n",
       "      <td>28102.169922</td>\n",
       "      <td>27740.662109</td>\n",
       "      <td>27935.089844</td>\n",
       "      <td>7916875290</td>\n",
       "    </tr>\n",
       "    <tr>\n",
       "      <th>2023-10-09</th>\n",
       "      <td>27934.472656</td>\n",
       "      <td>27989.470703</td>\n",
       "      <td>27302.562500</td>\n",
       "      <td>27583.677734</td>\n",
       "      <td>12007668568</td>\n",
       "    </tr>\n",
       "    <tr>\n",
       "      <th>2023-10-10</th>\n",
       "      <td>27589.201172</td>\n",
       "      <td>27715.847656</td>\n",
       "      <td>27301.654297</td>\n",
       "      <td>27391.019531</td>\n",
       "      <td>9973350678</td>\n",
       "    </tr>\n",
       "  </tbody>\n",
       "</table>\n",
       "<p>3311 rows × 5 columns</p>\n",
       "</div>"
      ],
      "text/plain": [
       "                    Open          High           Low         Close  \\\n",
       "Date                                                                 \n",
       "2014-09-17    465.864014    468.174011    452.421997    457.334015   \n",
       "2014-09-18    456.859985    456.859985    413.104004    424.440002   \n",
       "2014-09-19    424.102997    427.834991    384.532013    394.795990   \n",
       "2014-09-20    394.673004    423.295990    389.882996    408.903992   \n",
       "2014-09-21    408.084991    412.425995    393.181000    398.821014   \n",
       "...                  ...           ...           ...           ...   \n",
       "2023-10-06  27412.123047  28252.537109  27215.552734  27946.597656   \n",
       "2023-10-07  27946.781250  28028.091797  27870.423828  27968.839844   \n",
       "2023-10-08  27971.677734  28102.169922  27740.662109  27935.089844   \n",
       "2023-10-09  27934.472656  27989.470703  27302.562500  27583.677734   \n",
       "2023-10-10  27589.201172  27715.847656  27301.654297  27391.019531   \n",
       "\n",
       "                 Volume  \n",
       "Date                     \n",
       "2014-09-17     21056800  \n",
       "2014-09-18     34483200  \n",
       "2014-09-19     37919700  \n",
       "2014-09-20     36863600  \n",
       "2014-09-21     26580100  \n",
       "...                 ...  \n",
       "2023-10-06  13492391599  \n",
       "2023-10-07   6553044316  \n",
       "2023-10-08   7916875290  \n",
       "2023-10-09  12007668568  \n",
       "2023-10-10   9973350678  \n",
       "\n",
       "[3311 rows x 5 columns]"
      ]
     },
     "execution_count": 4,
     "metadata": {},
     "output_type": "execute_result"
    }
   ],
   "source": [
    "df_1"
   ]
  },
  {
   "cell_type": "code",
   "execution_count": 5,
   "id": "76d00d02",
   "metadata": {},
   "outputs": [],
   "source": [
    "#Split the dataset into trian and test\n",
    "\n",
    "train_data_1, test_data_1 = df_1[:int(len(df_1)*0.9)], df_1[int(len(df_1)*0.9):]"
   ]
  },
  {
   "cell_type": "code",
   "execution_count": 6,
   "id": "240e542c",
   "metadata": {},
   "outputs": [
    {
     "data": {
      "text/plain": [
       "<matplotlib.legend.Legend at 0x28f4dcc3400>"
      ]
     },
     "execution_count": 6,
     "metadata": {},
     "output_type": "execute_result"
    },
    {
     "data": {
      "image/png": "[encoded data removed]",
      "text/plain": [
       "<Figure size 720x432 with 1 Axes>"
      ]
     },
     "metadata": {},
     "output_type": "display_data"
    }
   ],
   "source": [
    "plt.figure(figsize=(10,6))\n",
    "plt.xlabel('Dates')\n",
    "plt.ylabel('Closing Prices')\n",
    "plt.plot(df_1.Close, 'green', label='Train data')\n",
    "plt.plot(test_data_1.Close, 'blue', label='Test data')\n",
    "plt.legend()"
   ]
  },
  {
   "cell_type": "markdown",
   "id": "591b1446",
   "metadata": {},
   "source": [
    "******************************************************************************************************************************************************************************"
   ]
  },
  {
   "cell_type": "markdown",
   "id": "62010aff",
   "metadata": {},
   "source": [
    "## 1. ARIMA MODEL"
   ]
  },
  {
   "cell_type": "code",
   "execution_count": 7,
   "id": "587d2fef",
   "metadata": {},
   "outputs": [],
   "source": [
    "from pmdarima.arima import auto_arima"
   ]
  },
  {
   "cell_type": "code",
   "execution_count": 8,
   "id": "f5d360aa",
   "metadata": {},
   "outputs": [],
   "source": [
    "arima_model = auto_arima(train_data_1['Close'], error_action='ignore', suppress_warnign=True, stepwise=False, approximation=False, seasonal=False)"
   ]
  },
  {
   "cell_type": "code",
   "execution_count": 9,
   "id": "305326d4",
   "metadata": {},
   "outputs": [
    {
     "data": {
      "text/html": [
       "<table class=\"simpletable\">\n",
       "<caption>SARIMAX Results</caption>\n",
       "<tr>\n",
       "  <th>Dep. Variable:</th>           <td>y</td>        <th>  No. Observations:  </th>    <td>2979</td>   \n",
       "</tr>\n",
       "<tr>\n",
       "  <th>Model:</th>           <td>SARIMAX(2, 1, 2)</td> <th>  Log Likelihood     </th> <td>-24121.498</td>\n",
       "</tr>\n",
       "<tr>\n",
       "  <th>Date:</th>            <td>Fri, 27 Oct 2023</td> <th>  AIC                </th>  <td>48254.996</td>\n",
       "</tr>\n",
       "<tr>\n",
       "  <th>Time:</th>                <td>12:21:56</td>     <th>  BIC                </th>  <td>48290.990</td>\n",
       "</tr>\n",
       "<tr>\n",
       "  <th>Sample:</th>             <td>09-17-2014</td>    <th>  HQIC               </th>  <td>48267.947</td>\n",
       "</tr>\n",
       "<tr>\n",
       "  <th></th>                   <td>- 11-12-2022</td>   <th>                     </th>      <td> </td>    \n",
       "</tr>\n",
       "<tr>\n",
       "  <th>Covariance Type:</th>        <td>opg</td>       <th>                     </th>      <td> </td>    \n",
       "</tr>\n",
       "</table>\n",
       "<table class=\"simpletable\">\n",
       "<tr>\n",
       "      <td></td>         <th>coef</th>     <th>std err</th>      <th>z</th>      <th>P>|z|</th>  <th>[0.025</th>    <th>0.975]</th>  \n",
       "</tr>\n",
       "<tr>\n",
       "  <th>intercept</th> <td>    4.5913</td> <td>   16.714</td> <td>    0.275</td> <td> 0.784</td> <td>  -28.167</td> <td>   37.349</td>\n",
       "</tr>\n",
       "<tr>\n",
       "  <th>ar.L1</th>     <td>    0.8163</td> <td>    0.010</td> <td>   83.551</td> <td> 0.000</td> <td>    0.797</td> <td>    0.835</td>\n",
       "</tr>\n",
       "<tr>\n",
       "  <th>ar.L2</th>     <td>   -0.9476</td> <td>    0.009</td> <td> -103.952</td> <td> 0.000</td> <td>   -0.965</td> <td>   -0.930</td>\n",
       "</tr>\n",
       "<tr>\n",
       "  <th>ma.L1</th>     <td>   -0.8470</td> <td>    0.010</td> <td>  -88.966</td> <td> 0.000</td> <td>   -0.866</td> <td>   -0.828</td>\n",
       "</tr>\n",
       "<tr>\n",
       "  <th>ma.L2</th>     <td>    0.9571</td> <td>    0.009</td> <td>  109.606</td> <td> 0.000</td> <td>    0.940</td> <td>    0.974</td>\n",
       "</tr>\n",
       "<tr>\n",
       "  <th>sigma2</th>    <td> 6.419e+05</td> <td> 5678.764</td> <td>  113.039</td> <td> 0.000</td> <td> 6.31e+05</td> <td> 6.53e+05</td>\n",
       "</tr>\n",
       "</table>\n",
       "<table class=\"simpletable\">\n",
       "<tr>\n",
       "  <th>Ljung-Box (L1) (Q):</th>      <td>0.00</td>   <th>  Jarque-Bera (JB):  </th> <td>33605.08</td>\n",
       "</tr>\n",
       "<tr>\n",
       "  <th>Prob(Q):</th>                 <td>0.96</td>   <th>  Prob(JB):          </th>   <td>0.00</td>  \n",
       "</tr>\n",
       "<tr>\n",
       "  <th>Heteroskedasticity (H):</th> <td>2633.19</td> <th>  Skew:              </th>   <td>-0.34</td> \n",
       "</tr>\n",
       "<tr>\n",
       "  <th>Prob(H) (two-sided):</th>     <td>0.00</td>   <th>  Kurtosis:          </th>   <td>19.44</td> \n",
       "</tr>\n",
       "</table><br/><br/>Warnings:<br/>[1] Covariance matrix calculated using the outer product of gradients (complex-step)."
      ],
      "text/latex": [
       "\\begin{center}\n",
       "\\begin{tabular}{lclc}\n",
       "\\toprule\n",
       "\\textbf{Dep. Variable:}          &        y         & \\textbf{  No. Observations:  } &    2979     \\\\\n",
       "\\textbf{Model:}                  & SARIMAX(2, 1, 2) & \\textbf{  Log Likelihood     } & -24121.498  \\\\\n",
       "\\textbf{Date:}                   & Fri, 27 Oct 2023 & \\textbf{  AIC                } & 48254.996   \\\\\n",
       "\\textbf{Time:}                   &     12:21:56     & \\textbf{  BIC                } & 48290.990   \\\\\n",
       "\\textbf{Sample:}                 &    09-17-2014    & \\textbf{  HQIC               } & 48267.947   \\\\\n",
       "\\textbf{}                        &   - 11-12-2022   & \\textbf{                     } &             \\\\\n",
       "\\textbf{Covariance Type:}        &       opg        & \\textbf{                     } &             \\\\\n",
       "\\bottomrule\n",
       "\\end{tabular}\n",
       "\\begin{tabular}{lcccccc}\n",
       "                   & \\textbf{coef} & \\textbf{std err} & \\textbf{z} & \\textbf{P$> |$z$|$} & \\textbf{[0.025} & \\textbf{0.975]}  \\\\\n",
       "\\midrule\n",
       "\\textbf{intercept} &       4.5913  &       16.714     &     0.275  &         0.784        &      -28.167    &       37.349     \\\\\n",
       "\\textbf{ar.L1}     &       0.8163  &        0.010     &    83.551  &         0.000        &        0.797    &        0.835     \\\\\n",
       "\\textbf{ar.L2}     &      -0.9476  &        0.009     &  -103.952  &         0.000        &       -0.965    &       -0.930     \\\\\n",
       "\\textbf{ma.L1}     &      -0.8470  &        0.010     &   -88.966  &         0.000        &       -0.866    &       -0.828     \\\\\n",
       "\\textbf{ma.L2}     &       0.9571  &        0.009     &   109.606  &         0.000        &        0.940    &        0.974     \\\\\n",
       "\\textbf{sigma2}    &    6.419e+05  &     5678.764     &   113.039  &         0.000        &     6.31e+05    &     6.53e+05     \\\\\n",
       "\\bottomrule\n",
       "\\end{tabular}\n",
       "\\begin{tabular}{lclc}\n",
       "\\textbf{Ljung-Box (L1) (Q):}     &   0.00  & \\textbf{  Jarque-Bera (JB):  } & 33605.08  \\\\\n",
       "\\textbf{Prob(Q):}                &   0.96  & \\textbf{  Prob(JB):          } &   0.00    \\\\\n",
       "\\textbf{Heteroskedasticity (H):} & 2633.19 & \\textbf{  Skew:              } &  -0.34    \\\\\n",
       "\\textbf{Prob(H) (two-sided):}    &   0.00  & \\textbf{  Kurtosis:          } &  19.44    \\\\\n",
       "\\bottomrule\n",
       "\\end{tabular}\n",
       "%\\caption{SARIMAX Results}\n",
       "\\end{center}\n",
       "\n",
       "Warnings: \\newline\n",
       " [1] Covariance matrix calculated using the outer product of gradients (complex-step)."
      ],
      "text/plain": [
       "<class 'statsmodels.iolib.summary.Summary'>\n",
       "\"\"\"\n",
       "                               SARIMAX Results                                \n",
       "==============================================================================\n",
       "Dep. Variable:                      y   No. Observations:                 2979\n",
       "Model:               SARIMAX(2, 1, 2)   Log Likelihood              -24121.498\n",
       "Date:                Fri, 27 Oct 2023   AIC                          48254.996\n",
       "Time:                        12:21:56   BIC                          48290.990\n",
       "Sample:                    09-17-2014   HQIC                         48267.947\n",
       "                         - 11-12-2022                                         \n",
       "Covariance Type:                  opg                                         \n",
       "==============================================================================\n",
       "                 coef    std err          z      P>|z|      [0.025      0.975]\n",
       "------------------------------------------------------------------------------\n",
       "intercept      4.5913     16.714      0.275      0.784     -28.167      37.349\n",
       "ar.L1          0.8163      0.010     83.551      0.000       0.797       0.835\n",
       "ar.L2         -0.9476      0.009   -103.952      0.000      -0.965      -0.930\n",
       "ma.L1         -0.8470      0.010    -88.966      0.000      -0.866      -0.828\n",
       "ma.L2          0.9571      0.009    109.606      0.000       0.940       0.974\n",
       "sigma2      6.419e+05   5678.764    113.039      0.000    6.31e+05    6.53e+05\n",
       "===================================================================================\n",
       "Ljung-Box (L1) (Q):                   0.00   Jarque-Bera (JB):             33605.08\n",
       "Prob(Q):                              0.96   Prob(JB):                         0.00\n",
       "Heteroskedasticity (H):            2633.19   Skew:                            -0.34\n",
       "Prob(H) (two-sided):                  0.00   Kurtosis:                        19.44\n",
       "===================================================================================\n",
       "\n",
       "Warnings:\n",
       "[1] Covariance matrix calculated using the outer product of gradients (complex-step).\n",
       "\"\"\""
      ]
     },
     "execution_count": 9,
     "metadata": {},
     "output_type": "execute_result"
    }
   ],
   "source": [
    "arima_model.summary()"
   ]
  },
  {
   "cell_type": "code",
   "execution_count": 10,
   "id": "3630fc1e",
   "metadata": {},
   "outputs": [],
   "source": [
    "n_future = len(test_data_1)"
   ]
  },
  {
   "cell_type": "code",
   "execution_count": 11,
   "id": "565a976e",
   "metadata": {},
   "outputs": [],
   "source": [
    "arima_pred = arima_model.predict(n_periods=n_future, return_conf_int=True, alpha=0.05)"
   ]
  },
  {
   "cell_type": "code",
   "execution_count": 12,
   "id": "c5fe41e1",
   "metadata": {},
   "outputs": [],
   "source": [
    "arima_pred = [pd.DataFrame(arima_pred[0], columns=['prediction']), pd.DataFrame(arima_pred[1], columns=['low_95', 'up_95'], index=arima_pred[0].index)]\n",
    "\n"
   ]
  },
  {
   "cell_type": "code",
   "execution_count": 13,
   "id": "5230c581",
   "metadata": {},
   "outputs": [],
   "source": [
    "arima_pred = pd.concat(arima_pred, axis=1)"
   ]
  },
  {
   "cell_type": "code",
   "execution_count": 14,
   "id": "1750a395",
   "metadata": {},
   "outputs": [
    {
     "data": {
      "text/html": [
       "<div>\n",
       "<style scoped>\n",
       "    .dataframe tbody tr th:only-of-type {\n",
       "        vertical-align: middle;\n",
       "    }\n",
       "\n",
       "    .dataframe tbody tr th {\n",
       "        vertical-align: top;\n",
       "    }\n",
       "\n",
       "    .dataframe thead th {\n",
       "        text-align: right;\n",
       "    }\n",
       "</style>\n",
       "<table border=\"1\" class=\"dataframe\">\n",
       "  <thead>\n",
       "    <tr style=\"text-align: right;\">\n",
       "      <th></th>\n",
       "      <th>prediction</th>\n",
       "      <th>low_95</th>\n",
       "      <th>up_95</th>\n",
       "    </tr>\n",
       "  </thead>\n",
       "  <tbody>\n",
       "    <tr>\n",
       "      <th>2022-11-13</th>\n",
       "      <td>16766.464128</td>\n",
       "      <td>15196.138679</td>\n",
       "      <td>18336.789577</td>\n",
       "    </tr>\n",
       "    <tr>\n",
       "      <th>2022-11-14</th>\n",
       "      <td>16876.032927</td>\n",
       "      <td>14689.044347</td>\n",
       "      <td>19063.021507</td>\n",
       "    </tr>\n",
       "    <tr>\n",
       "      <th>2022-11-15</th>\n",
       "      <td>17001.077725</td>\n",
       "      <td>14350.388551</td>\n",
       "      <td>19651.766899</td>\n",
       "    </tr>\n",
       "    <tr>\n",
       "      <th>2022-11-16</th>\n",
       "      <td>17003.919006</td>\n",
       "      <td>13946.630018</td>\n",
       "      <td>20061.207995</td>\n",
       "    </tr>\n",
       "    <tr>\n",
       "      <th>2022-11-17</th>\n",
       "      <td>16892.334664</td>\n",
       "      <td>13456.601851</td>\n",
       "      <td>20328.067476</td>\n",
       "    </tr>\n",
       "    <tr>\n",
       "      <th>...</th>\n",
       "      <td>...</td>\n",
       "      <td>...</td>\n",
       "      <td>...</td>\n",
       "    </tr>\n",
       "    <tr>\n",
       "      <th>2023-10-06</th>\n",
       "      <td>18217.685866</td>\n",
       "      <td>-9689.194301</td>\n",
       "      <td>46124.566034</td>\n",
       "    </tr>\n",
       "    <tr>\n",
       "      <th>2023-10-07</th>\n",
       "      <td>18221.759465</td>\n",
       "      <td>-9727.629872</td>\n",
       "      <td>46171.148802</td>\n",
       "    </tr>\n",
       "    <tr>\n",
       "      <th>2023-10-08</th>\n",
       "      <td>18225.811468</td>\n",
       "      <td>-9766.022794</td>\n",
       "      <td>46217.645730</td>\n",
       "    </tr>\n",
       "    <tr>\n",
       "      <th>2023-10-09</th>\n",
       "      <td>18229.850403</td>\n",
       "      <td>-9804.364860</td>\n",
       "      <td>46264.065666</td>\n",
       "    </tr>\n",
       "    <tr>\n",
       "      <th>2023-10-10</th>\n",
       "      <td>18233.899133</td>\n",
       "      <td>-9842.633139</td>\n",
       "      <td>46310.431406</td>\n",
       "    </tr>\n",
       "  </tbody>\n",
       "</table>\n",
       "<p>332 rows × 3 columns</p>\n",
       "</div>"
      ],
      "text/plain": [
       "              prediction        low_95         up_95\n",
       "2022-11-13  16766.464128  15196.138679  18336.789577\n",
       "2022-11-14  16876.032927  14689.044347  19063.021507\n",
       "2022-11-15  17001.077725  14350.388551  19651.766899\n",
       "2022-11-16  17003.919006  13946.630018  20061.207995\n",
       "2022-11-17  16892.334664  13456.601851  20328.067476\n",
       "...                  ...           ...           ...\n",
       "2023-10-06  18217.685866  -9689.194301  46124.566034\n",
       "2023-10-07  18221.759465  -9727.629872  46171.148802\n",
       "2023-10-08  18225.811468  -9766.022794  46217.645730\n",
       "2023-10-09  18229.850403  -9804.364860  46264.065666\n",
       "2023-10-10  18233.899133  -9842.633139  46310.431406\n",
       "\n",
       "[332 rows x 3 columns]"
      ]
     },
     "execution_count": 14,
     "metadata": {},
     "output_type": "execute_result"
    }
   ],
   "source": [
    "arima_pred"
   ]
  },
  {
   "cell_type": "code",
   "execution_count": 15,
   "id": "e94caa25",
   "metadata": {},
   "outputs": [
    {
     "data": {
      "image/png": "[encoded data removed]",
      "text/plain": [
       "<Figure size 864x576 with 1 Axes>"
      ]
     },
     "metadata": {},
     "output_type": "display_data"
    }
   ],
   "source": [
    "#Print results\n",
    "\n",
    "fig, ax = plt.subplots(1, figsize=(12, 8))\n",
    "\n",
    "ax = sns.lineplot(data=test_data_1['Close'], color='black', label= 'Actual')\n",
    "\n",
    "ax.plot(arima_pred.prediction, color='red', label= 'ARIMA')\n",
    "\n",
    "ax.fill_between(arima_pred.index, arima_pred.low_95, arima_pred.up_95, alpha=0.2, facecolor='red')\n",
    "\n",
    "ax.legend(loc='upper left')\n",
    "\n",
    "plt.tight_layout()\n",
    "plt.show()"
   ]
  },
  {
   "cell_type": "code",
   "execution_count": 16,
   "id": "07980e32",
   "metadata": {},
   "outputs": [
    {
     "name": "stdout",
     "output_type": "stream",
     "text": [
      "MSE: 73105534.90164974\n",
      "MAE: 7511.2067783035545\n",
      "RMSE: 8550.17747778663\n",
      "MAPE: 0.2764172399759155\n"
     ]
    }
   ],
   "source": [
    "# report performance\n",
    "mse = mean_squared_error(test_data_1.Close, arima_pred.prediction)\n",
    "print('MSE: '+str(mse))\n",
    "mae = mean_absolute_error(test_data_1.Close, arima_pred.prediction)\n",
    "print('MAE: '+str(mae))\n",
    "rmse = math.sqrt(mean_squared_error(test_data_1.Close, arima_pred.prediction))\n",
    "print('RMSE: '+str(rmse))\n",
    "mape = np.mean(np.abs(arima_pred.prediction - test_data_1.Close)/np.abs(test_data_1.Close))\n",
    "print('MAPE: '+str(mape))"
   ]
  },
  {
   "cell_type": "markdown",
   "id": "f76e3b63",
   "metadata": {},
   "source": [
    "******************************************************************************************************************************************************************************"
   ]
  },
  {
   "cell_type": "markdown",
   "id": "522bb7f7",
   "metadata": {},
   "source": [
    "## 2. XGBoots MODEL"
   ]
  },
  {
   "cell_type": "code",
   "execution_count": 17,
   "id": "3a8af06f",
   "metadata": {},
   "outputs": [],
   "source": [
    "import xgboost as xgb\n",
    "from sklearn.model_selection import  GridSearchCV\n",
    "from sklearn.model_selection import train_test_split"
   ]
  },
  {
   "cell_type": "code",
   "execution_count": 18,
   "id": "6c13cbff",
   "metadata": {},
   "outputs": [],
   "source": [
    "# Split the data in target and independant variables\n",
    "\n",
    "x = df_1.drop(['Close'], axis = 1)\n",
    "\n",
    "y = df_1['Close']"
   ]
  },
  {
   "cell_type": "code",
   "execution_count": 19,
   "id": "335cf256",
   "metadata": {},
   "outputs": [],
   "source": [
    "# Splitting to training and testing data\n",
    "\n",
    "x_train, x_test, y_train, y_test = train_test_split(x,y, test_size = 0.2, shuffle=False)"
   ]
  },
  {
   "cell_type": "code",
   "execution_count": 20,
   "id": "04befeea",
   "metadata": {},
   "outputs": [
    {
     "name": "stdout",
     "output_type": "stream",
     "text": [
      "Best params: {'gamma': 0.001, 'learning_rate': 0.01, 'max_depth': 8, 'n_estimators': 200, 'random_state': 42}\n",
      "Best validation score = 0.025762143658920423\n",
      "Wall time: 6min 12s\n"
     ]
    }
   ],
   "source": [
    "%%time\n",
    "\n",
    "parameters = {\n",
    "    'n_estimators': [100, 200, 300, 400],\n",
    "    'learning_rate': [0.001, 0.005, 0.01, 0.05],\n",
    "    'max_depth': [8, 10, 12, 15],\n",
    "    'gamma': [0.001, 0.005, 0.01, 0.02],\n",
    "    'random_state': [42]\n",
    "}\n",
    "\n",
    "model = xgb.XGBRegressor( objective='reg:squarederror')\n",
    "clf = GridSearchCV(model, parameters)\n",
    "\n",
    "clf.fit(x_train, y_train)\n",
    "\n",
    "print(f'Best params: {clf.best_params_}')\n",
    "print(f'Best validation score = {clf.best_score_}')"
   ]
  },
  {
   "cell_type": "code",
   "execution_count": 21,
   "id": "7ce80035",
   "metadata": {},
   "outputs": [
    {
     "name": "stdout",
     "output_type": "stream",
     "text": [
      "Wall time: 295 ms\n"
     ]
    },
    {
     "data": {
      "text/plain": [
       "XGBRegressor(base_score=None, booster=None, callbacks=None,\n",
       "             colsample_bylevel=None, colsample_bynode=None,\n",
       "             colsample_bytree=None, early_stopping_rounds=None,\n",
       "             enable_categorical=False, eval_metric=None, feature_types=None,\n",
       "             gamma=0.001, gpu_id=None, grow_policy=None, importance_type=None,\n",
       "             interaction_constraints=None, learning_rate=0.01, max_bin=None,\n",
       "             max_cat_threshold=None, max_cat_to_onehot=None,\n",
       "             max_delta_step=None, max_depth=8, max_leaves=None,\n",
       "             min_child_weight=None, missing=nan, monotone_constraints=None,\n",
       "             n_estimators=200, n_jobs=None, num_parallel_tree=None,\n",
       "             predictor=None, random_state=42, ...)"
      ]
     },
     "execution_count": 21,
     "metadata": {},
     "output_type": "execute_result"
    }
   ],
   "source": [
    "%%time\n",
    "\n",
    "model_xgb = xgb.XGBRegressor(**clf.best_params_, objective='reg:squarederror')\n",
    "model_xgb.fit(x_train, y_train)"
   ]
  },
  {
   "cell_type": "code",
   "execution_count": 22,
   "id": "38e4c489",
   "metadata": {},
   "outputs": [],
   "source": [
    "y_pred = model_xgb.predict(x_test)"
   ]
  },
  {
   "cell_type": "code",
   "execution_count": 23,
   "id": "45f1983d",
   "metadata": {},
   "outputs": [],
   "source": [
    "# Create dataframe\n",
    "\n",
    "prediction = y_test.to_frame().copy()"
   ]
  },
  {
   "cell_type": "code",
   "execution_count": 24,
   "id": "f1702486",
   "metadata": {},
   "outputs": [],
   "source": [
    "# Model prediction on test data\n",
    "\n",
    "prediction['y_predr'] = y_pred"
   ]
  },
  {
   "cell_type": "code",
   "execution_count": 25,
   "id": "7ca3613a",
   "metadata": {},
   "outputs": [
    {
     "data": {
      "image/png": "[encoded data removed]",
      "text/plain": [
       "<Figure size 1200x480 with 1 Axes>"
      ]
     },
     "metadata": {},
     "output_type": "display_data"
    }
   ],
   "source": [
    "figure(figsize=(15, 6), dpi=80)\n",
    "\n",
    "plt.plot(prediction['Close'], label='y_test')\n",
    "plt.plot(prediction['y_predr'], label='y_predr')\n",
    "plt.legend()\n",
    "plt.show()"
   ]
  },
  {
   "cell_type": "code",
   "execution_count": 26,
   "id": "e19c0d74",
   "metadata": {},
   "outputs": [
    {
     "name": "stdout",
     "output_type": "stream",
     "text": [
      "MSE: 14679766.988405295\n",
      "MAE: 3539.6522966157618\n",
      "RMSE: 3831.418404247348\n",
      "MAPE: 0.12616460516653452\n"
     ]
    }
   ],
   "source": [
    "# report performance\n",
    "mse = mean_squared_error(prediction['Close'], prediction['y_predr'])\n",
    "print('MSE: '+str(mse))\n",
    "mae = mean_absolute_error(prediction['Close'], prediction['y_predr'])\n",
    "print('MAE: '+str(mae))\n",
    "rmse = math.sqrt(mean_squared_error(prediction['Close'],prediction['y_predr']))\n",
    "print('RMSE: '+str(rmse))\n",
    "mape = np.mean(np.abs(prediction['y_predr'] - prediction['Close'])/np.abs(prediction['Close']))\n",
    "print('MAPE: '+str(mape))"
   ]
  },
  {
   "cell_type": "markdown",
   "id": "7e5d7c77",
   "metadata": {},
   "source": [
    "******************************************************************************************************************************************************************************"
   ]
  },
  {
   "cell_type": "markdown",
   "id": "aa50d734",
   "metadata": {},
   "source": [
    "## 3. Long Short Term Memory (LSTM)"
   ]
  },
  {
   "cell_type": "code",
   "execution_count": 27,
   "id": "ce7dc438",
   "metadata": {},
   "outputs": [],
   "source": [
    "from sklearn.preprocessing import MinMaxScaler\n",
    "import tensorflow as tf\n",
    "from tensorflow.keras.models import Sequential\n",
    "from tensorflow.keras.layers import Dense, GRU,LSTM, Dropout"
   ]
  },
  {
   "cell_type": "code",
   "execution_count": 28,
   "id": "0c94f983",
   "metadata": {},
   "outputs": [],
   "source": [
    "#Scale train data\n",
    "\n",
    "scaler = MinMaxScaler()\n",
    "scaler = scaler.fit(df_1)\n",
    "scaled_data = scaler.transform(df_1)"
   ]
  },
  {
   "cell_type": "code",
   "execution_count": 29,
   "id": "103df45b",
   "metadata": {},
   "outputs": [
    {
     "data": {
      "text/plain": [
       "array([[4.28907289e-03, 3.73944129e-03, 4.24270742e-03, 4.14358659e-03,\n",
       "        4.31449241e-05],\n",
       "       [4.15542811e-03, 3.57446064e-03, 3.64887469e-03, 3.65546321e-03,\n",
       "        8.14009147e-05],\n",
       "       [3.66922343e-03, 3.15121938e-03, 3.21734241e-03, 3.21556748e-03,\n",
       "        9.11925723e-05],\n",
       "       ...,\n",
       "       [4.12551732e-01, 4.06697221e-01, 4.16386076e-01, 4.11893633e-01,\n",
       "        2.25407882e-02],\n",
       "       [4.11999505e-01, 4.05053846e-01, 4.09769311e-01, 4.06678932e-01,\n",
       "        3.41967309e-02],\n",
       "       [4.06874717e-01, 4.01063886e-01, 4.09755594e-01, 4.03820023e-01,\n",
       "        2.84003264e-02]])"
      ]
     },
     "execution_count": 29,
     "metadata": {},
     "output_type": "execute_result"
    }
   ],
   "source": [
    "scaled_data"
   ]
  },
  {
   "cell_type": "code",
   "execution_count": 30,
   "id": "95c6a8b7",
   "metadata": {},
   "outputs": [],
   "source": [
    "# Ya que el modelo LSTM alamcena memoria a largo plazo, creamos una extructura de 14 periodos.\n",
    "# Por lo que, para cada elemento de grupo de entrenamiento, se usan los 14 anteriores datos.\n",
    "# Basicamente cogemos los primeros 14 periodos para calcular el 15.\n",
    "\n",
    "def X_y (df, window_size):\n",
    "    \n",
    "    X=[]\n",
    "    y=[]\n",
    "    \n",
    "    for i in range(len(scaled_data)-window_size):\n",
    "        row = [a for a in scaled_data[i:i+window_size]]    \n",
    "        X.append(row)\n",
    "        label = scaled_data[i+window_size][3]       # Columna del precio de cierre\n",
    "        y.append(label)\n",
    "        \n",
    "    return np.array(X), np.array(y)"
   ]
  },
  {
   "cell_type": "code",
   "execution_count": 31,
   "id": "40526549",
   "metadata": {},
   "outputs": [
    {
     "data": {
      "text/plain": [
       "((3297, 14, 5), (3297,))"
      ]
     },
     "execution_count": 31,
     "metadata": {},
     "output_type": "execute_result"
    }
   ],
   "source": [
    "X, y = X_y(scaled_data, window_size=14)\n",
    "\n",
    "X.shape, y.shape"
   ]
  },
  {
   "cell_type": "code",
   "execution_count": 32,
   "id": "c970bf95",
   "metadata": {},
   "outputs": [],
   "source": [
    "X_train, y_train = X[:int(X.shape[0]*0.9)], y[:int(X.shape[0]*0.9)]\n",
    "X_val, y_val = X[int(X.shape[0]*0.9):int(X.shape[0]*0.95)], y[int(X.shape[0]*0.9):int(X.shape[0]*0.95)]\n",
    "X_test, y_test = X[int(X.shape[0]*0.95):], y[int(X.shape[0]*0.95):]"
   ]
  },
  {
   "cell_type": "code",
   "execution_count": 33,
   "id": "70292bd1",
   "metadata": {},
   "outputs": [
    {
     "name": "stdout",
     "output_type": "stream",
     "text": [
      "Model: \"sequential\"\n",
      "_________________________________________________________________\n",
      " Layer (type)                Output Shape              Param #   \n",
      "=================================================================\n",
      " lstm (LSTM)                 (None, 14, 50)            11200     \n",
      "                                                                 \n",
      " dropout (Dropout)           (None, 14, 50)            0         \n",
      "                                                                 \n",
      " lstm_1 (LSTM)               (None, 14, 50)            20200     \n",
      "                                                                 \n",
      " dropout_1 (Dropout)         (None, 14, 50)            0         \n",
      "                                                                 \n",
      " lstm_2 (LSTM)               (None, 50)                20200     \n",
      "                                                                 \n",
      " dropout_2 (Dropout)         (None, 50)                0         \n",
      "                                                                 \n",
      " dense (Dense)               (None, 1)                 51        \n",
      "                                                                 \n",
      "=================================================================\n",
      "Total params: 51,651\n",
      "Trainable params: 51,651\n",
      "Non-trainable params: 0\n",
      "_________________________________________________________________\n"
     ]
    }
   ],
   "source": [
    "model2 = Sequential()\n",
    "\n",
    "model2.add(LSTM(units=50, return_sequences=True, input_shape=(X_train.shape[1],X_train.shape[2])))\n",
    "model2.add(Dropout(0.2))\n",
    "model2.add(LSTM(units=50, return_sequences=True))\n",
    "model2.add(Dropout(0.2))\n",
    "model2.add(LSTM(units=50))\n",
    "model2.add(Dropout(0.2))\n",
    "model2.add(Dense(units=1))\n",
    "\n",
    "model2.summary()"
   ]
  },
  {
   "cell_type": "code",
   "execution_count": 34,
   "id": "a4014a72",
   "metadata": {},
   "outputs": [],
   "source": [
    "model2.compile(tf.keras.optimizers.Adam(learning_rate=0.01), \n",
    "               loss=tf.keras.losses.MeanSquaredError())"
   ]
  },
  {
   "cell_type": "code",
   "execution_count": 35,
   "id": "f1ffaf3f",
   "metadata": {},
   "outputs": [
    {
     "name": "stdout",
     "output_type": "stream",
     "text": [
      "Epoch 1/10\n",
      "93/93 [==============================] - 8s 18ms/step - loss: 0.0065 - val_loss: 4.3249e-04\n",
      "Epoch 2/10\n",
      "93/93 [==============================] - 1s 9ms/step - loss: 0.0019 - val_loss: 3.4231e-04\n",
      "Epoch 3/10\n",
      "93/93 [==============================] - 1s 9ms/step - loss: 0.0015 - val_loss: 7.7730e-04\n",
      "Epoch 4/10\n",
      "93/93 [==============================] - 1s 9ms/step - loss: 0.0016 - val_loss: 9.4254e-04\n",
      "Epoch 5/10\n",
      "93/93 [==============================] - 1s 9ms/step - loss: 0.0013 - val_loss: 4.5428e-04\n",
      "Epoch 6/10\n",
      "93/93 [==============================] - 1s 9ms/step - loss: 0.0013 - val_loss: 9.5025e-04\n",
      "Epoch 7/10\n",
      "93/93 [==============================] - 1s 9ms/step - loss: 0.0013 - val_loss: 0.0019\n",
      "Epoch 8/10\n",
      "93/93 [==============================] - 1s 10ms/step - loss: 0.0013 - val_loss: 0.0016\n",
      "Epoch 9/10\n",
      "93/93 [==============================] - 1s 9ms/step - loss: 0.0016 - val_loss: 0.0013\n",
      "Epoch 10/10\n",
      "93/93 [==============================] - 1s 9ms/step - loss: 0.0012 - val_loss: 3.9353e-04\n"
     ]
    }
   ],
   "source": [
    "history2 = model2.fit(X_train, y_train, epochs=10, validation_data=(X_val, y_val) )"
   ]
  },
  {
   "cell_type": "code",
   "execution_count": 36,
   "id": "e3cff9c7",
   "metadata": {},
   "outputs": [
    {
     "name": "stdout",
     "output_type": "stream",
     "text": [
      "6/6 [==============================] - 1s 3ms/step\n"
     ]
    },
    {
     "data": {
      "text/html": [
       "<div>\n",
       "<style scoped>\n",
       "    .dataframe tbody tr th:only-of-type {\n",
       "        vertical-align: middle;\n",
       "    }\n",
       "\n",
       "    .dataframe tbody tr th {\n",
       "        vertical-align: top;\n",
       "    }\n",
       "\n",
       "    .dataframe thead th {\n",
       "        text-align: right;\n",
       "    }\n",
       "</style>\n",
       "<table border=\"1\" class=\"dataframe\">\n",
       "  <thead>\n",
       "    <tr style=\"text-align: right;\">\n",
       "      <th></th>\n",
       "      <th>Predictions</th>\n",
       "      <th>Real</th>\n",
       "    </tr>\n",
       "  </thead>\n",
       "  <tbody>\n",
       "    <tr>\n",
       "      <th>0</th>\n",
       "      <td>0.418516</td>\n",
       "      <td>0.431384</td>\n",
       "    </tr>\n",
       "    <tr>\n",
       "      <th>1</th>\n",
       "      <td>0.423334</td>\n",
       "      <td>0.431685</td>\n",
       "    </tr>\n",
       "    <tr>\n",
       "      <th>2</th>\n",
       "      <td>0.423920</td>\n",
       "      <td>0.414216</td>\n",
       "    </tr>\n",
       "    <tr>\n",
       "      <th>3</th>\n",
       "      <td>0.417252</td>\n",
       "      <td>0.422956</td>\n",
       "    </tr>\n",
       "    <tr>\n",
       "      <th>4</th>\n",
       "      <td>0.409233</td>\n",
       "      <td>0.427790</td>\n",
       "    </tr>\n",
       "    <tr>\n",
       "      <th>...</th>\n",
       "      <td>...</td>\n",
       "      <td>...</td>\n",
       "    </tr>\n",
       "    <tr>\n",
       "      <th>160</th>\n",
       "      <td>0.393915</td>\n",
       "      <td>0.412064</td>\n",
       "    </tr>\n",
       "    <tr>\n",
       "      <th>161</th>\n",
       "      <td>0.394377</td>\n",
       "      <td>0.412394</td>\n",
       "    </tr>\n",
       "    <tr>\n",
       "      <th>162</th>\n",
       "      <td>0.396925</td>\n",
       "      <td>0.411894</td>\n",
       "    </tr>\n",
       "    <tr>\n",
       "      <th>163</th>\n",
       "      <td>0.399270</td>\n",
       "      <td>0.406679</td>\n",
       "    </tr>\n",
       "    <tr>\n",
       "      <th>164</th>\n",
       "      <td>0.398463</td>\n",
       "      <td>0.403820</td>\n",
       "    </tr>\n",
       "  </tbody>\n",
       "</table>\n",
       "<p>165 rows × 2 columns</p>\n",
       "</div>"
      ],
      "text/plain": [
       "     Predictions      Real\n",
       "0       0.418516  0.431384\n",
       "1       0.423334  0.431685\n",
       "2       0.423920  0.414216\n",
       "3       0.417252  0.422956\n",
       "4       0.409233  0.427790\n",
       "..           ...       ...\n",
       "160     0.393915  0.412064\n",
       "161     0.394377  0.412394\n",
       "162     0.396925  0.411894\n",
       "163     0.399270  0.406679\n",
       "164     0.398463  0.403820\n",
       "\n",
       "[165 rows x 2 columns]"
      ]
     },
     "execution_count": 36,
     "metadata": {},
     "output_type": "execute_result"
    }
   ],
   "source": [
    "predictions2 = model2.predict(X_test).flatten()\n",
    "df2 = pd.DataFrame(data={'Predictions':predictions2, 'Real': y_test})\n",
    "df2"
   ]
  },
  {
   "cell_type": "code",
   "execution_count": 37,
   "id": "1e33d86f",
   "metadata": {},
   "outputs": [
    {
     "data": {
      "text/plain": [
       "[<matplotlib.lines.Line2D at 0x28f719479a0>]"
      ]
     },
     "execution_count": 37,
     "metadata": {},
     "output_type": "execute_result"
    },
    {
     "data": {
      "image/png": "[encoded data removed]",
      "text/plain": [
       "<Figure size 432x288 with 1 Axes>"
      ]
     },
     "metadata": {},
     "output_type": "display_data"
    }
   ],
   "source": [
    "start = 0\n",
    "end = X_test.shape[0]\n",
    "\n",
    "plt.plot(df2.Predictions[start:end])\n",
    "plt.plot(df2.Real[start:end])"
   ]
  },
  {
   "cell_type": "code",
   "execution_count": 38,
   "id": "80905b6e",
   "metadata": {},
   "outputs": [
    {
     "name": "stdout",
     "output_type": "stream",
     "text": [
      "MSE: 0.00024700932581416316\n",
      "MAE: 0.013431371351497433\n",
      "RMSE: 0.015716530336373966\n",
      "MAPE: 0.03269738439317129\n"
     ]
    }
   ],
   "source": [
    "# report performance\n",
    "mse = mean_squared_error(df2['Real'], df2['Predictions'])\n",
    "print('MSE: '+str(mse))\n",
    "mae = mean_absolute_error(df2['Real'], df2['Predictions'])\n",
    "print('MAE: '+str(mae))\n",
    "rmse = math.sqrt(mean_squared_error(df2['Real'],df2['Predictions']))\n",
    "print('RMSE: '+str(rmse))\n",
    "mape = np.mean(np.abs(df2['Predictions'] - df2['Real'])/np.abs(df2['Real']))\n",
    "print('MAPE: '+str(mape))"
   ]
  },
  {
   "cell_type": "markdown",
   "id": "e7677c34",
   "metadata": {},
   "source": [
    "******************************************************************************************************************************************************************************"
   ]
  },
  {
   "cell_type": "markdown",
   "id": "b0929cab",
   "metadata": {},
   "source": [
    "## 4. Gated Recurrent Network (GRU)"
   ]
  },
  {
   "cell_type": "code",
   "execution_count": 39,
   "id": "e26b46a9",
   "metadata": {},
   "outputs": [
    {
     "name": "stdout",
     "output_type": "stream",
     "text": [
      "Model: \"sequential_1\"\n",
      "_________________________________________________________________\n",
      " Layer (type)                Output Shape              Param #   \n",
      "=================================================================\n",
      " gru (GRU)                   (None, 14, 50)            8550      \n",
      "                                                                 \n",
      " dropout_3 (Dropout)         (None, 14, 50)            0         \n",
      "                                                                 \n",
      " gru_1 (GRU)                 (None, 14, 50)            15300     \n",
      "                                                                 \n",
      " dropout_4 (Dropout)         (None, 14, 50)            0         \n",
      "                                                                 \n",
      " gru_2 (GRU)                 (None, 50)                15300     \n",
      "                                                                 \n",
      " dropout_5 (Dropout)         (None, 50)                0         \n",
      "                                                                 \n",
      " dense_1 (Dense)             (None, 1)                 51        \n",
      "                                                                 \n",
      "=================================================================\n",
      "Total params: 39,201\n",
      "Trainable params: 39,201\n",
      "Non-trainable params: 0\n",
      "_________________________________________________________________\n"
     ]
    }
   ],
   "source": [
    "model1 = Sequential()\n",
    "\n",
    "model1.add(GRU(units=50, return_sequences=True, input_shape=(X_train.shape[1],X_train.shape[2])))\n",
    "model1.add(Dropout(0.2))\n",
    "model1.add(GRU(units=50, return_sequences=True))\n",
    "model1.add(Dropout(0.2))\n",
    "model1.add(GRU(units=50))\n",
    "model1.add(Dropout(0.2))\n",
    "model1.add(Dense(units=1))\n",
    "\n",
    "model1.summary()"
   ]
  },
  {
   "cell_type": "code",
   "execution_count": 40,
   "id": "61f2bf15",
   "metadata": {},
   "outputs": [],
   "source": [
    "model1.compile(tf.keras.optimizers.Adam(learning_rate=0.01), \n",
    "               loss=tf.keras.losses.MeanSquaredError())"
   ]
  },
  {
   "cell_type": "code",
   "execution_count": 41,
   "id": "04f12097",
   "metadata": {},
   "outputs": [
    {
     "name": "stdout",
     "output_type": "stream",
     "text": [
      "Epoch 1/10\n",
      "93/93 [==============================] - 6s 17ms/step - loss: 0.0111 - val_loss: 5.2944e-04\n",
      "Epoch 2/10\n",
      "93/93 [==============================] - 1s 10ms/step - loss: 0.0020 - val_loss: 0.0015\n",
      "Epoch 3/10\n",
      "93/93 [==============================] - 1s 10ms/step - loss: 0.0015 - val_loss: 3.6133e-04\n",
      "Epoch 4/10\n",
      "93/93 [==============================] - 1s 9ms/step - loss: 0.0014 - val_loss: 0.0012\n",
      "Epoch 5/10\n",
      "93/93 [==============================] - 1s 9ms/step - loss: 0.0013 - val_loss: 2.4745e-04\n",
      "Epoch 6/10\n",
      "93/93 [==============================] - 1s 9ms/step - loss: 0.0011 - val_loss: 1.8757e-04\n",
      "Epoch 7/10\n",
      "93/93 [==============================] - 1s 9ms/step - loss: 0.0011 - val_loss: 3.3438e-04\n",
      "Epoch 8/10\n",
      "93/93 [==============================] - 1s 9ms/step - loss: 0.0012 - val_loss: 0.0010\n",
      "Epoch 9/10\n",
      "93/93 [==============================] - 1s 9ms/step - loss: 0.0017 - val_loss: 1.9283e-04\n",
      "Epoch 10/10\n",
      "93/93 [==============================] - 1s 10ms/step - loss: 0.0018 - val_loss: 2.0490e-04\n"
     ]
    }
   ],
   "source": [
    "history1 = model1.fit(X_train, y_train, epochs=10, validation_data=(X_val, y_val) )"
   ]
  },
  {
   "cell_type": "code",
   "execution_count": 42,
   "id": "32d765be",
   "metadata": {},
   "outputs": [
    {
     "name": "stdout",
     "output_type": "stream",
     "text": [
      "6/6 [==============================] - 1s 0s/step\n"
     ]
    },
    {
     "data": {
      "text/html": [
       "<div>\n",
       "<style scoped>\n",
       "    .dataframe tbody tr th:only-of-type {\n",
       "        vertical-align: middle;\n",
       "    }\n",
       "\n",
       "    .dataframe tbody tr th {\n",
       "        vertical-align: top;\n",
       "    }\n",
       "\n",
       "    .dataframe thead th {\n",
       "        text-align: right;\n",
       "    }\n",
       "</style>\n",
       "<table border=\"1\" class=\"dataframe\">\n",
       "  <thead>\n",
       "    <tr style=\"text-align: right;\">\n",
       "      <th></th>\n",
       "      <th>Predictions</th>\n",
       "      <th>Real</th>\n",
       "    </tr>\n",
       "  </thead>\n",
       "  <tbody>\n",
       "    <tr>\n",
       "      <th>0</th>\n",
       "      <td>0.432322</td>\n",
       "      <td>0.431384</td>\n",
       "    </tr>\n",
       "    <tr>\n",
       "      <th>1</th>\n",
       "      <td>0.435843</td>\n",
       "      <td>0.431685</td>\n",
       "    </tr>\n",
       "    <tr>\n",
       "      <th>2</th>\n",
       "      <td>0.438086</td>\n",
       "      <td>0.414216</td>\n",
       "    </tr>\n",
       "    <tr>\n",
       "      <th>3</th>\n",
       "      <td>0.432841</td>\n",
       "      <td>0.422956</td>\n",
       "    </tr>\n",
       "    <tr>\n",
       "      <th>4</th>\n",
       "      <td>0.431356</td>\n",
       "      <td>0.427790</td>\n",
       "    </tr>\n",
       "    <tr>\n",
       "      <th>...</th>\n",
       "      <td>...</td>\n",
       "      <td>...</td>\n",
       "    </tr>\n",
       "    <tr>\n",
       "      <th>160</th>\n",
       "      <td>0.411876</td>\n",
       "      <td>0.412064</td>\n",
       "    </tr>\n",
       "    <tr>\n",
       "      <th>161</th>\n",
       "      <td>0.413310</td>\n",
       "      <td>0.412394</td>\n",
       "    </tr>\n",
       "    <tr>\n",
       "      <th>162</th>\n",
       "      <td>0.416222</td>\n",
       "      <td>0.411894</td>\n",
       "    </tr>\n",
       "    <tr>\n",
       "      <th>163</th>\n",
       "      <td>0.417700</td>\n",
       "      <td>0.406679</td>\n",
       "    </tr>\n",
       "    <tr>\n",
       "      <th>164</th>\n",
       "      <td>0.416377</td>\n",
       "      <td>0.403820</td>\n",
       "    </tr>\n",
       "  </tbody>\n",
       "</table>\n",
       "<p>165 rows × 2 columns</p>\n",
       "</div>"
      ],
      "text/plain": [
       "     Predictions      Real\n",
       "0       0.432322  0.431384\n",
       "1       0.435843  0.431685\n",
       "2       0.438086  0.414216\n",
       "3       0.432841  0.422956\n",
       "4       0.431356  0.427790\n",
       "..           ...       ...\n",
       "160     0.411876  0.412064\n",
       "161     0.413310  0.412394\n",
       "162     0.416222  0.411894\n",
       "163     0.417700  0.406679\n",
       "164     0.416377  0.403820\n",
       "\n",
       "[165 rows x 2 columns]"
      ]
     },
     "execution_count": 42,
     "metadata": {},
     "output_type": "execute_result"
    }
   ],
   "source": [
    "predictions = model1.predict(X_test).flatten()\n",
    "df = pd.DataFrame(data={'Predictions':predictions, 'Real': y_test})\n",
    "df"
   ]
  },
  {
   "cell_type": "code",
   "execution_count": 43,
   "id": "22d00fce",
   "metadata": {},
   "outputs": [
    {
     "data": {
      "text/plain": [
       "[<matplotlib.lines.Line2D at 0x28f7b4530d0>]"
      ]
     },
     "execution_count": 43,
     "metadata": {},
     "output_type": "execute_result"
    },
    {
     "data": {
      "image/png": "[encoded data removed]",
      "text/plain": [
       "<Figure size 432x288 with 1 Axes>"
      ]
     },
     "metadata": {},
     "output_type": "display_data"
    }
   ],
   "source": [
    "start = 0\n",
    "end = X_test.shape[0]\n",
    "\n",
    "plt.plot(df.Predictions[start:end])\n",
    "plt.plot(df.Real[start:end])"
   ]
  },
  {
   "cell_type": "code",
   "execution_count": 44,
   "id": "c9ea05af",
   "metadata": {},
   "outputs": [
    {
     "name": "stdout",
     "output_type": "stream",
     "text": [
      "MSE: 0.0001749947982866376\n",
      "MAE: 0.010747045067013105\n",
      "RMSE: 0.013228559947576969\n",
      "MAPE: 0.026145001188000595\n"
     ]
    }
   ],
   "source": [
    "    \n",
    "# report performance\n",
    "mse = mean_squared_error(df['Real'], df['Predictions'])\n",
    "print('MSE: '+str(mse))\n",
    "mae = mean_absolute_error(df['Real'], df['Predictions'])\n",
    "print('MAE: '+str(mae))\n",
    "rmse = math.sqrt(mean_squared_error(df['Real'],df['Predictions']))\n",
    "print('RMSE: '+str(rmse))\n",
    "mape = np.mean(np.abs(df['Predictions'] - df['Real'])/np.abs(df['Real']))\n",
    "print('MAPE: '+str(mape))"
   ]
  },
  {
   "cell_type": "markdown",
   "id": "7303c6dd",
   "metadata": {},
   "source": [
    "******************************************************************************************************************************************************************************"
   ]
  }
 ],
 "metadata": {
  "kernelspec": {
   "display_name": "Python 3 (ipykernel)",
   "language": "python",
   "name": "python3"
  },
  "language_info": {
   "codemirror_mode": {
    "name": "ipython",
    "version": 3
   },
   "file_extension": ".py",
   "mimetype": "text/x-python",
   "name": "python",
   "nbconvert_exporter": "python",
   "pygments_lexer": "ipython3",
   "version": "3.9.7"
  }
 },
 "nbformat": 4,
 "nbformat_minor": 5
}
